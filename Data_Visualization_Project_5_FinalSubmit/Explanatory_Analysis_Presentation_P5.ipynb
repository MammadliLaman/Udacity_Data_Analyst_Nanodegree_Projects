{
 "cells": [
  {
   "cell_type": "markdown",
   "id": "75598691",
   "metadata": {
    "slideshow": {
     "slide_type": "slide"
    }
   },
   "source": [
    "# Data Visualization - Ford GoBike System Data\n",
    "\n",
    "by Laman Mammadli\n",
    "\n",
    "27/07/2021"
   ]
  },
  {
   "cell_type": "markdown",
   "id": "40706fb5",
   "metadata": {
    "slideshow": {
     "slide_type": "slide"
    }
   },
   "source": [
    "# Content\n",
    "\n",
    "[Data set Overview](#overview)\n",
    "\n",
    "[Questions](#questions)\n",
    "\n",
    "[Explanatory Analysis](#explanatory)\n",
    "\n",
    "[Call to Action](#call)"
   ]
  },
  {
   "cell_type": "markdown",
   "id": "d190d0a0",
   "metadata": {
    "slideshow": {
     "slide_type": "slide"
    }
   },
   "source": [
    "<a id='overview'></a>\n",
    "### Data set Overview\n",
    "\n",
    "This data set includes information about individual rides made in a bike-sharing system covering the greater San Francisco Bay area.  "
   ]
  },
  {
   "cell_type": "markdown",
   "id": "b9e2fcdc",
   "metadata": {
    "slideshow": {
     "slide_type": "slide"
    }
   },
   "source": [
    "<a id='questions'></a>\n",
    "### Questions \n",
    "\n",
    "\n",
    "- When are most trips taken in terms of time of day, day of the week?\n",
    "- Does the average trip depend on if a user is a subscriber or customer?\n",
    "- Does the average trip depend on if a user is a male or female?\n",
    "- When the ride duration is the highest? \n",
    "- Is there a relationship between the age of riders and the duration of the rides and distance? "
   ]
  },
  {
   "cell_type": "code",
   "execution_count": 1,
   "id": "2b5990f2",
   "metadata": {
    "slideshow": {
     "slide_type": "skip"
    }
   },
   "outputs": [
    {
     "name": "stderr",
     "output_type": "stream",
     "text": [
      "UsageError: Line magic function `%` not found.\n"
     ]
    }
   ],
   "source": [
    "# Importing crucial libraries \n",
    "\n",
    "import pandas as pd\n",
    "import numpy as np\n",
    "import seaborn as sb\n",
    "import matplotlib.pyplot as plt\n",
    "% matplotlib inline"
   ]
  },
  {
   "cell_type": "code",
   "execution_count": 4,
   "id": "414c1dba",
   "metadata": {
    "slideshow": {
     "slide_type": "skip"
    }
   },
   "outputs": [
    {
     "data": {
      "text/html": [
       "<div>\n",
       "<style scoped>\n",
       "    .dataframe tbody tr th:only-of-type {\n",
       "        vertical-align: middle;\n",
       "    }\n",
       "\n",
       "    .dataframe tbody tr th {\n",
       "        vertical-align: top;\n",
       "    }\n",
       "\n",
       "    .dataframe thead th {\n",
       "        text-align: right;\n",
       "    }\n",
       "</style>\n",
       "<table border=\"1\" class=\"dataframe\">\n",
       "  <thead>\n",
       "    <tr style=\"text-align: right;\">\n",
       "      <th></th>\n",
       "      <th>Unnamed: 0</th>\n",
       "      <th>duration_sec</th>\n",
       "      <th>start_time</th>\n",
       "      <th>end_time</th>\n",
       "      <th>start_station_name</th>\n",
       "      <th>start_station_latitude</th>\n",
       "      <th>start_station_longitude</th>\n",
       "      <th>end_station_name</th>\n",
       "      <th>end_station_latitude</th>\n",
       "      <th>end_station_longitude</th>\n",
       "      <th>...</th>\n",
       "      <th>member_gender</th>\n",
       "      <th>bike_share_for_all_trip</th>\n",
       "      <th>week_days</th>\n",
       "      <th>years</th>\n",
       "      <th>months</th>\n",
       "      <th>hours</th>\n",
       "      <th>period_of_day</th>\n",
       "      <th>duration_min</th>\n",
       "      <th>distance_km</th>\n",
       "      <th>age</th>\n",
       "    </tr>\n",
       "  </thead>\n",
       "  <tbody>\n",
       "    <tr>\n",
       "      <th>0</th>\n",
       "      <td>0</td>\n",
       "      <td>52185</td>\n",
       "      <td>2019-02-28 17:32:10.145</td>\n",
       "      <td>2019-03-01 08:01:55.975</td>\n",
       "      <td>Montgomery St BART Station (Market St at 2nd St)</td>\n",
       "      <td>37.789625</td>\n",
       "      <td>-122.400811</td>\n",
       "      <td>Commercial St at Montgomery St</td>\n",
       "      <td>37.794231</td>\n",
       "      <td>-122.402923</td>\n",
       "      <td>...</td>\n",
       "      <td>Male</td>\n",
       "      <td>No</td>\n",
       "      <td>Thu</td>\n",
       "      <td>2019</td>\n",
       "      <td>Feb</td>\n",
       "      <td>17</td>\n",
       "      <td>afternoon</td>\n",
       "      <td>869</td>\n",
       "      <td>0.36</td>\n",
       "      <td>35</td>\n",
       "    </tr>\n",
       "    <tr>\n",
       "      <th>1</th>\n",
       "      <td>2</td>\n",
       "      <td>61854</td>\n",
       "      <td>2019-02-28 12:13:13.218</td>\n",
       "      <td>2019-03-01 05:24:08.146</td>\n",
       "      <td>Market St at Dolores St</td>\n",
       "      <td>37.769305</td>\n",
       "      <td>-122.426826</td>\n",
       "      <td>Powell St BART Station (Market St at 4th St)</td>\n",
       "      <td>37.786375</td>\n",
       "      <td>-122.404904</td>\n",
       "      <td>...</td>\n",
       "      <td>Male</td>\n",
       "      <td>No</td>\n",
       "      <td>Thu</td>\n",
       "      <td>2019</td>\n",
       "      <td>Feb</td>\n",
       "      <td>12</td>\n",
       "      <td>afternoon</td>\n",
       "      <td>1030</td>\n",
       "      <td>2.64</td>\n",
       "      <td>47</td>\n",
       "    </tr>\n",
       "    <tr>\n",
       "      <th>2</th>\n",
       "      <td>3</td>\n",
       "      <td>36490</td>\n",
       "      <td>2019-02-28 17:54:26.010</td>\n",
       "      <td>2019-03-01 04:02:36.842</td>\n",
       "      <td>Grove St at Masonic Ave</td>\n",
       "      <td>37.774836</td>\n",
       "      <td>-122.446546</td>\n",
       "      <td>Central Ave at Fell St</td>\n",
       "      <td>37.773311</td>\n",
       "      <td>-122.444293</td>\n",
       "      <td>...</td>\n",
       "      <td>Other</td>\n",
       "      <td>No</td>\n",
       "      <td>Thu</td>\n",
       "      <td>2019</td>\n",
       "      <td>Feb</td>\n",
       "      <td>17</td>\n",
       "      <td>afternoon</td>\n",
       "      <td>608</td>\n",
       "      <td>0.27</td>\n",
       "      <td>30</td>\n",
       "    </tr>\n",
       "    <tr>\n",
       "      <th>3</th>\n",
       "      <td>4</td>\n",
       "      <td>1585</td>\n",
       "      <td>2019-02-28 23:54:18.549</td>\n",
       "      <td>2019-03-01 00:20:44.074</td>\n",
       "      <td>Frank H Ogawa Plaza</td>\n",
       "      <td>37.804562</td>\n",
       "      <td>-122.271738</td>\n",
       "      <td>10th Ave at E 15th St</td>\n",
       "      <td>37.792714</td>\n",
       "      <td>-122.248780</td>\n",
       "      <td>...</td>\n",
       "      <td>Male</td>\n",
       "      <td>Yes</td>\n",
       "      <td>Thu</td>\n",
       "      <td>2019</td>\n",
       "      <td>Feb</td>\n",
       "      <td>23</td>\n",
       "      <td>night</td>\n",
       "      <td>26</td>\n",
       "      <td>2.65</td>\n",
       "      <td>45</td>\n",
       "    </tr>\n",
       "    <tr>\n",
       "      <th>4</th>\n",
       "      <td>5</td>\n",
       "      <td>1793</td>\n",
       "      <td>2019-02-28 23:49:58.632</td>\n",
       "      <td>2019-03-01 00:19:51.760</td>\n",
       "      <td>4th St at Mission Bay Blvd S</td>\n",
       "      <td>37.770407</td>\n",
       "      <td>-122.391198</td>\n",
       "      <td>Broadway at Kearny</td>\n",
       "      <td>37.798014</td>\n",
       "      <td>-122.405950</td>\n",
       "      <td>...</td>\n",
       "      <td>Male</td>\n",
       "      <td>No</td>\n",
       "      <td>Thu</td>\n",
       "      <td>2019</td>\n",
       "      <td>Feb</td>\n",
       "      <td>23</td>\n",
       "      <td>night</td>\n",
       "      <td>29</td>\n",
       "      <td>2.32</td>\n",
       "      <td>60</td>\n",
       "    </tr>\n",
       "  </tbody>\n",
       "</table>\n",
       "<p>5 rows × 23 columns</p>\n",
       "</div>"
      ],
      "text/plain": [
       "   Unnamed: 0  duration_sec               start_time                 end_time  \\\n",
       "0           0         52185  2019-02-28 17:32:10.145  2019-03-01 08:01:55.975   \n",
       "1           2         61854  2019-02-28 12:13:13.218  2019-03-01 05:24:08.146   \n",
       "2           3         36490  2019-02-28 17:54:26.010  2019-03-01 04:02:36.842   \n",
       "3           4          1585  2019-02-28 23:54:18.549  2019-03-01 00:20:44.074   \n",
       "4           5          1793  2019-02-28 23:49:58.632  2019-03-01 00:19:51.760   \n",
       "\n",
       "                                 start_station_name  start_station_latitude  \\\n",
       "0  Montgomery St BART Station (Market St at 2nd St)               37.789625   \n",
       "1                           Market St at Dolores St               37.769305   \n",
       "2                           Grove St at Masonic Ave               37.774836   \n",
       "3                               Frank H Ogawa Plaza               37.804562   \n",
       "4                      4th St at Mission Bay Blvd S               37.770407   \n",
       "\n",
       "   start_station_longitude                              end_station_name  \\\n",
       "0              -122.400811                Commercial St at Montgomery St   \n",
       "1              -122.426826  Powell St BART Station (Market St at 4th St)   \n",
       "2              -122.446546                        Central Ave at Fell St   \n",
       "3              -122.271738                         10th Ave at E 15th St   \n",
       "4              -122.391198                            Broadway at Kearny   \n",
       "\n",
       "   end_station_latitude  end_station_longitude  ...  member_gender  \\\n",
       "0             37.794231            -122.402923  ...           Male   \n",
       "1             37.786375            -122.404904  ...           Male   \n",
       "2             37.773311            -122.444293  ...          Other   \n",
       "3             37.792714            -122.248780  ...           Male   \n",
       "4             37.798014            -122.405950  ...           Male   \n",
       "\n",
       "  bike_share_for_all_trip  week_days years months hours  period_of_day  \\\n",
       "0                      No        Thu  2019    Feb    17      afternoon   \n",
       "1                      No        Thu  2019    Feb    12      afternoon   \n",
       "2                      No        Thu  2019    Feb    17      afternoon   \n",
       "3                     Yes        Thu  2019    Feb    23          night   \n",
       "4                      No        Thu  2019    Feb    23          night   \n",
       "\n",
       "  duration_min  distance_km age  \n",
       "0          869         0.36  35  \n",
       "1         1030         2.64  47  \n",
       "2          608         0.27  30  \n",
       "3           26         2.65  45  \n",
       "4           29         2.32  60  \n",
       "\n",
       "[5 rows x 23 columns]"
      ]
     },
     "execution_count": 4,
     "metadata": {},
     "output_type": "execute_result"
    }
   ],
   "source": [
    "bike_df = pd.read_csv('biketrip_data_edited.csv')\n",
    "bike_df.head()"
   ]
  },
  {
   "cell_type": "code",
   "execution_count": 5,
   "id": "6ef75e23",
   "metadata": {
    "slideshow": {
     "slide_type": "skip"
    }
   },
   "outputs": [
    {
     "name": "stdout",
     "output_type": "stream",
     "text": [
      "<class 'pandas.core.frame.DataFrame'>\n",
      "RangeIndex: 174952 entries, 0 to 174951\n",
      "Data columns (total 23 columns):\n",
      " #   Column                   Non-Null Count   Dtype  \n",
      "---  ------                   --------------   -----  \n",
      " 0   Unnamed: 0               174952 non-null  int64  \n",
      " 1   duration_sec             174952 non-null  int64  \n",
      " 2   start_time               174952 non-null  object \n",
      " 3   end_time                 174952 non-null  object \n",
      " 4   start_station_name       174952 non-null  object \n",
      " 5   start_station_latitude   174952 non-null  float64\n",
      " 6   start_station_longitude  174952 non-null  float64\n",
      " 7   end_station_name         174952 non-null  object \n",
      " 8   end_station_latitude     174952 non-null  float64\n",
      " 9   end_station_longitude    174952 non-null  float64\n",
      " 10  bike_id                  174952 non-null  int64  \n",
      " 11  user_type                174952 non-null  object \n",
      " 12  member_birth_year        174952 non-null  int64  \n",
      " 13  member_gender            174952 non-null  object \n",
      " 14  bike_share_for_all_trip  174952 non-null  object \n",
      " 15  week_days                174952 non-null  object \n",
      " 16  years                    174952 non-null  int64  \n",
      " 17  months                   174952 non-null  object \n",
      " 18  hours                    174952 non-null  int64  \n",
      " 19  period_of_day            174952 non-null  object \n",
      " 20  duration_min             174952 non-null  int64  \n",
      " 21  distance_km              174952 non-null  float64\n",
      " 22  age                      174952 non-null  int64  \n",
      "dtypes: float64(5), int64(8), object(10)\n",
      "memory usage: 30.7+ MB\n"
     ]
    }
   ],
   "source": [
    "bike_df.info()"
   ]
  },
  {
   "cell_type": "code",
   "execution_count": 6,
   "id": "ef88fbcd",
   "metadata": {
    "slideshow": {
     "slide_type": "skip"
    }
   },
   "outputs": [],
   "source": [
    "# Converting to the datetime64\n",
    "\n",
    "bike_df['start_time'] = pd.to_datetime(bike_df['start_time'])\n",
    "bike_df['end_time'] = pd.to_datetime(bike_df['end_time'])"
   ]
  },
  {
   "cell_type": "code",
   "execution_count": 7,
   "id": "d4c2c9e4",
   "metadata": {
    "slideshow": {
     "slide_type": "skip"
    }
   },
   "outputs": [
    {
     "name": "stdout",
     "output_type": "stream",
     "text": [
      "<class 'pandas.core.frame.DataFrame'>\n",
      "RangeIndex: 174952 entries, 0 to 174951\n",
      "Data columns (total 23 columns):\n",
      " #   Column                   Non-Null Count   Dtype         \n",
      "---  ------                   --------------   -----         \n",
      " 0   Unnamed: 0               174952 non-null  int64         \n",
      " 1   duration_sec             174952 non-null  int64         \n",
      " 2   start_time               174952 non-null  datetime64[ns]\n",
      " 3   end_time                 174952 non-null  datetime64[ns]\n",
      " 4   start_station_name       174952 non-null  object        \n",
      " 5   start_station_latitude   174952 non-null  float64       \n",
      " 6   start_station_longitude  174952 non-null  float64       \n",
      " 7   end_station_name         174952 non-null  object        \n",
      " 8   end_station_latitude     174952 non-null  float64       \n",
      " 9   end_station_longitude    174952 non-null  float64       \n",
      " 10  bike_id                  174952 non-null  int64         \n",
      " 11  user_type                174952 non-null  object        \n",
      " 12  member_birth_year        174952 non-null  int64         \n",
      " 13  member_gender            174952 non-null  object        \n",
      " 14  bike_share_for_all_trip  174952 non-null  object        \n",
      " 15  week_days                174952 non-null  object        \n",
      " 16  years                    174952 non-null  int64         \n",
      " 17  months                   174952 non-null  object        \n",
      " 18  hours                    174952 non-null  int64         \n",
      " 19  period_of_day            174952 non-null  object        \n",
      " 20  duration_min             174952 non-null  int64         \n",
      " 21  distance_km              174952 non-null  float64       \n",
      " 22  age                      174952 non-null  int64         \n",
      "dtypes: datetime64[ns](2), float64(5), int64(8), object(8)\n",
      "memory usage: 30.7+ MB\n"
     ]
    }
   ],
   "source": [
    "bike_df.info()"
   ]
  },
  {
   "cell_type": "code",
   "execution_count": 8,
   "id": "28ba982f",
   "metadata": {
    "slideshow": {
     "slide_type": "skip"
    }
   },
   "outputs": [],
   "source": [
    "bike_df.drop('Unnamed: 0', axis = 1, inplace = True)"
   ]
  },
  {
   "cell_type": "code",
   "execution_count": 9,
   "id": "35290956",
   "metadata": {
    "slideshow": {
     "slide_type": "skip"
    }
   },
   "outputs": [
    {
     "data": {
      "text/html": [
       "<div>\n",
       "<style scoped>\n",
       "    .dataframe tbody tr th:only-of-type {\n",
       "        vertical-align: middle;\n",
       "    }\n",
       "\n",
       "    .dataframe tbody tr th {\n",
       "        vertical-align: top;\n",
       "    }\n",
       "\n",
       "    .dataframe thead th {\n",
       "        text-align: right;\n",
       "    }\n",
       "</style>\n",
       "<table border=\"1\" class=\"dataframe\">\n",
       "  <thead>\n",
       "    <tr style=\"text-align: right;\">\n",
       "      <th></th>\n",
       "      <th>duration_sec</th>\n",
       "      <th>start_time</th>\n",
       "      <th>end_time</th>\n",
       "      <th>start_station_name</th>\n",
       "      <th>start_station_latitude</th>\n",
       "      <th>start_station_longitude</th>\n",
       "      <th>end_station_name</th>\n",
       "      <th>end_station_latitude</th>\n",
       "      <th>end_station_longitude</th>\n",
       "      <th>bike_id</th>\n",
       "      <th>...</th>\n",
       "      <th>member_gender</th>\n",
       "      <th>bike_share_for_all_trip</th>\n",
       "      <th>week_days</th>\n",
       "      <th>years</th>\n",
       "      <th>months</th>\n",
       "      <th>hours</th>\n",
       "      <th>period_of_day</th>\n",
       "      <th>duration_min</th>\n",
       "      <th>distance_km</th>\n",
       "      <th>age</th>\n",
       "    </tr>\n",
       "  </thead>\n",
       "  <tbody>\n",
       "    <tr>\n",
       "      <th>0</th>\n",
       "      <td>52185</td>\n",
       "      <td>2019-02-28 17:32:10.145</td>\n",
       "      <td>2019-03-01 08:01:55.975</td>\n",
       "      <td>Montgomery St BART Station (Market St at 2nd St)</td>\n",
       "      <td>37.789625</td>\n",
       "      <td>-122.400811</td>\n",
       "      <td>Commercial St at Montgomery St</td>\n",
       "      <td>37.794231</td>\n",
       "      <td>-122.402923</td>\n",
       "      <td>4902</td>\n",
       "      <td>...</td>\n",
       "      <td>Male</td>\n",
       "      <td>No</td>\n",
       "      <td>Thu</td>\n",
       "      <td>2019</td>\n",
       "      <td>Feb</td>\n",
       "      <td>17</td>\n",
       "      <td>afternoon</td>\n",
       "      <td>869</td>\n",
       "      <td>0.36</td>\n",
       "      <td>35</td>\n",
       "    </tr>\n",
       "    <tr>\n",
       "      <th>1</th>\n",
       "      <td>61854</td>\n",
       "      <td>2019-02-28 12:13:13.218</td>\n",
       "      <td>2019-03-01 05:24:08.146</td>\n",
       "      <td>Market St at Dolores St</td>\n",
       "      <td>37.769305</td>\n",
       "      <td>-122.426826</td>\n",
       "      <td>Powell St BART Station (Market St at 4th St)</td>\n",
       "      <td>37.786375</td>\n",
       "      <td>-122.404904</td>\n",
       "      <td>5905</td>\n",
       "      <td>...</td>\n",
       "      <td>Male</td>\n",
       "      <td>No</td>\n",
       "      <td>Thu</td>\n",
       "      <td>2019</td>\n",
       "      <td>Feb</td>\n",
       "      <td>12</td>\n",
       "      <td>afternoon</td>\n",
       "      <td>1030</td>\n",
       "      <td>2.64</td>\n",
       "      <td>47</td>\n",
       "    </tr>\n",
       "    <tr>\n",
       "      <th>2</th>\n",
       "      <td>36490</td>\n",
       "      <td>2019-02-28 17:54:26.010</td>\n",
       "      <td>2019-03-01 04:02:36.842</td>\n",
       "      <td>Grove St at Masonic Ave</td>\n",
       "      <td>37.774836</td>\n",
       "      <td>-122.446546</td>\n",
       "      <td>Central Ave at Fell St</td>\n",
       "      <td>37.773311</td>\n",
       "      <td>-122.444293</td>\n",
       "      <td>6638</td>\n",
       "      <td>...</td>\n",
       "      <td>Other</td>\n",
       "      <td>No</td>\n",
       "      <td>Thu</td>\n",
       "      <td>2019</td>\n",
       "      <td>Feb</td>\n",
       "      <td>17</td>\n",
       "      <td>afternoon</td>\n",
       "      <td>608</td>\n",
       "      <td>0.27</td>\n",
       "      <td>30</td>\n",
       "    </tr>\n",
       "    <tr>\n",
       "      <th>3</th>\n",
       "      <td>1585</td>\n",
       "      <td>2019-02-28 23:54:18.549</td>\n",
       "      <td>2019-03-01 00:20:44.074</td>\n",
       "      <td>Frank H Ogawa Plaza</td>\n",
       "      <td>37.804562</td>\n",
       "      <td>-122.271738</td>\n",
       "      <td>10th Ave at E 15th St</td>\n",
       "      <td>37.792714</td>\n",
       "      <td>-122.248780</td>\n",
       "      <td>4898</td>\n",
       "      <td>...</td>\n",
       "      <td>Male</td>\n",
       "      <td>Yes</td>\n",
       "      <td>Thu</td>\n",
       "      <td>2019</td>\n",
       "      <td>Feb</td>\n",
       "      <td>23</td>\n",
       "      <td>night</td>\n",
       "      <td>26</td>\n",
       "      <td>2.65</td>\n",
       "      <td>45</td>\n",
       "    </tr>\n",
       "    <tr>\n",
       "      <th>4</th>\n",
       "      <td>1793</td>\n",
       "      <td>2019-02-28 23:49:58.632</td>\n",
       "      <td>2019-03-01 00:19:51.760</td>\n",
       "      <td>4th St at Mission Bay Blvd S</td>\n",
       "      <td>37.770407</td>\n",
       "      <td>-122.391198</td>\n",
       "      <td>Broadway at Kearny</td>\n",
       "      <td>37.798014</td>\n",
       "      <td>-122.405950</td>\n",
       "      <td>5200</td>\n",
       "      <td>...</td>\n",
       "      <td>Male</td>\n",
       "      <td>No</td>\n",
       "      <td>Thu</td>\n",
       "      <td>2019</td>\n",
       "      <td>Feb</td>\n",
       "      <td>23</td>\n",
       "      <td>night</td>\n",
       "      <td>29</td>\n",
       "      <td>2.32</td>\n",
       "      <td>60</td>\n",
       "    </tr>\n",
       "  </tbody>\n",
       "</table>\n",
       "<p>5 rows × 22 columns</p>\n",
       "</div>"
      ],
      "text/plain": [
       "   duration_sec              start_time                end_time  \\\n",
       "0         52185 2019-02-28 17:32:10.145 2019-03-01 08:01:55.975   \n",
       "1         61854 2019-02-28 12:13:13.218 2019-03-01 05:24:08.146   \n",
       "2         36490 2019-02-28 17:54:26.010 2019-03-01 04:02:36.842   \n",
       "3          1585 2019-02-28 23:54:18.549 2019-03-01 00:20:44.074   \n",
       "4          1793 2019-02-28 23:49:58.632 2019-03-01 00:19:51.760   \n",
       "\n",
       "                                 start_station_name  start_station_latitude  \\\n",
       "0  Montgomery St BART Station (Market St at 2nd St)               37.789625   \n",
       "1                           Market St at Dolores St               37.769305   \n",
       "2                           Grove St at Masonic Ave               37.774836   \n",
       "3                               Frank H Ogawa Plaza               37.804562   \n",
       "4                      4th St at Mission Bay Blvd S               37.770407   \n",
       "\n",
       "   start_station_longitude                              end_station_name  \\\n",
       "0              -122.400811                Commercial St at Montgomery St   \n",
       "1              -122.426826  Powell St BART Station (Market St at 4th St)   \n",
       "2              -122.446546                        Central Ave at Fell St   \n",
       "3              -122.271738                         10th Ave at E 15th St   \n",
       "4              -122.391198                            Broadway at Kearny   \n",
       "\n",
       "   end_station_latitude  end_station_longitude  bike_id  ... member_gender  \\\n",
       "0             37.794231            -122.402923     4902  ...          Male   \n",
       "1             37.786375            -122.404904     5905  ...          Male   \n",
       "2             37.773311            -122.444293     6638  ...         Other   \n",
       "3             37.792714            -122.248780     4898  ...          Male   \n",
       "4             37.798014            -122.405950     5200  ...          Male   \n",
       "\n",
       "   bike_share_for_all_trip week_days years months  hours period_of_day  \\\n",
       "0                       No       Thu  2019    Feb     17     afternoon   \n",
       "1                       No       Thu  2019    Feb     12     afternoon   \n",
       "2                       No       Thu  2019    Feb     17     afternoon   \n",
       "3                      Yes       Thu  2019    Feb     23         night   \n",
       "4                       No       Thu  2019    Feb     23         night   \n",
       "\n",
       "   duration_min distance_km  age  \n",
       "0           869        0.36   35  \n",
       "1          1030        2.64   47  \n",
       "2           608        0.27   30  \n",
       "3            26        2.65   45  \n",
       "4            29        2.32   60  \n",
       "\n",
       "[5 rows x 22 columns]"
      ]
     },
     "execution_count": 9,
     "metadata": {},
     "output_type": "execute_result"
    }
   ],
   "source": [
    "bike_df.head()"
   ]
  },
  {
   "cell_type": "markdown",
   "id": "1a0369d0",
   "metadata": {
    "slideshow": {
     "slide_type": "slide"
    }
   },
   "source": [
    "<a id='explanatory'></a>\n",
    "### Explanatory Analysis "
   ]
  },
  {
   "cell_type": "code",
   "execution_count": 10,
   "id": "5465029f",
   "metadata": {
    "slideshow": {
     "slide_type": "slide"
    }
   },
   "outputs": [
    {
     "data": {
      "image/png": "[encoded data removed]",
      "text/plain": [
       "<Figure size 432x288 with 1 Axes>"
      ]
     },
     "metadata": {
      "needs_background": "light"
     },
     "output_type": "display_data"
    }
   ],
   "source": [
    "# Viewing gender count\n",
    "# Static-ordering the bars\n",
    "sb.countplot(data = bike_df, x = 'member_gender', color = 'orange', order=[1, 3, 2]);\n",
    "\n",
    "# Dynamic-ordering the bars\n",
    "# Returning a Series\n",
    "freq = bike_df['member_gender'].value_counts()\n",
    "\n",
    "# Getting the indexes of the Series\n",
    "gen_order = freq.index\n",
    "\n",
    "# Plotting the bar chart in the decreasing order of the frequency of the `member_gender`\n",
    "sb.countplot(data = bike_df, x ='member_gender', color = 'orange', order = gen_order);\n",
    "\n",
    "# Labeling the axes and title \n",
    "plt.title('Gender Description')\n",
    "plt.xlabel('Gender')\n",
    "plt.ylabel('Count')\n",
    "\n",
    "# Displaying the plot\n",
    "plt.show()\n"
   ]
  },
  {
   "cell_type": "markdown",
   "id": "c72e0a4a",
   "metadata": {
    "slideshow": {
     "slide_type": "fragment"
    }
   },
   "source": [
    "**Observation:**\n",
    "\n",
    "**Male riders are more than female riders**"
   ]
  },
  {
   "cell_type": "code",
   "execution_count": 11,
   "id": "71e070b9",
   "metadata": {
    "slideshow": {
     "slide_type": "slide"
    }
   },
   "outputs": [
    {
     "data": {
      "image/png": "[encoded data removed]",
      "text/plain": [
       "<Figure size 432x288 with 1 Axes>"
      ]
     },
     "metadata": {
      "needs_background": "light"
     },
     "output_type": "display_data"
    }
   ],
   "source": [
    "# Viewing user type count\n",
    "# Dynamic-ordering the bars\n",
    "# Returning a Series\n",
    "freq = bike_df['user_type'].value_counts()\n",
    "\n",
    "# Getting the indexes of the Series\n",
    "user_order = freq.index\n",
    "\n",
    "sb.countplot(data = bike_df, x = 'user_type', color = '#E66100', order = user_order)\n",
    "\n",
    "# Labeling the axes and title \n",
    "plt.title('User Type Description')\n",
    "plt.xlabel('User Type')\n",
    "plt.ylabel('Count')\n",
    "\n",
    "# Displaying the plot\n",
    "plt.show()"
   ]
  },
  {
   "cell_type": "markdown",
   "id": "46d56529",
   "metadata": {
    "slideshow": {
     "slide_type": "fragment"
    }
   },
   "source": [
    "**Observation:**\n",
    "\n",
    "**Subscriber riders are more than customer riders**"
   ]
  },
  {
   "cell_type": "code",
   "execution_count": 12,
   "id": "0cc14247",
   "metadata": {
    "slideshow": {
     "slide_type": "slide"
    }
   },
   "outputs": [
    {
     "data": {
      "image/png": "[encoded data removed]",
      "text/plain": [
       "<Figure size 432x288 with 1 Axes>"
      ]
     },
     "metadata": {
      "needs_background": "light"
     },
     "output_type": "display_data"
    },
    {
     "data": {
      "text/plain": [
       "<Figure size 432x216 with 0 Axes>"
      ]
     },
     "metadata": {},
     "output_type": "display_data"
    }
   ],
   "source": [
    "order = ['Mon', 'Tue', 'Wed', 'Thu', 'Fri', 'Sat', 'Sun']\n",
    "\n",
    "# Viewing rides during the week days \n",
    "sb.countplot(data = bike_df, x = 'week_days', color = 'orange', order = order)\n",
    "\n",
    "# Labeling the axes and title \n",
    "plt.title('Rides vs Days of Week')\n",
    "plt.xlabel('Days of Week')\n",
    "plt.ylabel('Count')\n",
    "plt.figure(figsize = (6, 3))\n",
    "\n",
    "# Display the plot\n",
    "plt.show()"
   ]
  },
  {
   "cell_type": "markdown",
   "id": "78014f23",
   "metadata": {
    "slideshow": {
     "slide_type": "fragment"
    }
   },
   "source": [
    "**Observation:**\n",
    "\n",
    "**Riders are more active on Tuesday, and less active on weekends.**"
   ]
  },
  {
   "cell_type": "code",
   "execution_count": 13,
   "id": "ad497061",
   "metadata": {
    "slideshow": {
     "slide_type": "slide"
    }
   },
   "outputs": [
    {
     "data": {
      "image/png": "[encoded data removed]",
      "text/plain": [
       "<Figure size 432x288 with 1 Axes>"
      ]
     },
     "metadata": {
      "needs_background": "light"
     },
     "output_type": "display_data"
    },
    {
     "data": {
      "text/plain": [
       "<Figure size 432x216 with 0 Axes>"
      ]
     },
     "metadata": {},
     "output_type": "display_data"
    }
   ],
   "source": [
    "order = ['morning', 'afternoon', 'night']\n",
    "\n",
    "# Viewing the rides during a day\n",
    "sb.countplot(data = bike_df, x = 'period_of_day', color = 'orange', order = order)\n",
    "\n",
    "# Labeling the axes and title \n",
    "plt.title('Rides vs Period of Day')\n",
    "plt.xlabel('Period of Day')\n",
    "plt.ylabel('Count')\n",
    "\n",
    "# Setting the plot size\n",
    "plt.figure(figsize = (6, 3))\n",
    "\n",
    "# Display the plot\n",
    "plt.show()"
   ]
  },
  {
   "cell_type": "markdown",
   "id": "17a9bc68",
   "metadata": {
    "slideshow": {
     "slide_type": "fragment"
    }
   },
   "source": [
    "**Observation:**\n",
    "\n",
    "**Riders are more active during the morning, and less active at nights.**"
   ]
  },
  {
   "cell_type": "code",
   "execution_count": 14,
   "id": "dd0681d1",
   "metadata": {
    "slideshow": {
     "slide_type": "slide"
    }
   },
   "outputs": [
    {
     "data": {
      "image/png": "[encoded data removed]",
      "text/plain": [
       "<Figure size 1440x360 with 3 Axes>"
      ]
     },
     "metadata": {
      "needs_background": "light"
     },
     "output_type": "display_data"
    }
   ],
   "source": [
    "plt.figure(figsize = [20, 5])\n",
    "\n",
    "plt.subplot(1, 2, 1)\n",
    "\n",
    "# Viewing the relationship between member_birth_year and duration of the rides (same with the above)\n",
    "sb.regplot(data = bike_df, x = 'member_birth_year', y = 'duration_min', color = 'orange', truncate=False, x_jitter=0.3, scatter_kws={'alpha':1/10})\n",
    "\n",
    "# Labeling the axes and title \n",
    "plt.title('Member Birth Year vs Duration (min)')\n",
    "plt.xlabel('Member Birht Year')\n",
    "plt.ylabel('Duration (min)')\n",
    "\n",
    "\n",
    "plt.subplot(1, 2, 2)\n",
    "\n",
    "# Using cmap to reverse the color map.\n",
    "\n",
    "plt.hist2d(data = bike_df, x = 'age', y = 'distance_km', color = 'orange', cmin=0.5, cmap='viridis_r')\n",
    "plt.colorbar()\n",
    "\n",
    "# Labeling the axes and title \n",
    "plt.title('Age vs Distance (km)')\n",
    "plt.xlabel('Age')\n",
    "plt.ylabel('Distance (km)');"
   ]
  },
  {
   "cell_type": "markdown",
   "id": "9ecc51a6",
   "metadata": {
    "slideshow": {
     "slide_type": "fragment"
    }
   },
   "source": [
    "**Observation:**\n",
    "\n",
    "**Young riders ride more in duration and in distance**"
   ]
  },
  {
   "cell_type": "code",
   "execution_count": 15,
   "id": "ae8980f2",
   "metadata": {
    "slideshow": {
     "slide_type": "slide"
    }
   },
   "outputs": [
    {
     "data": {
      "image/png": "[encoded data removed]",
      "text/plain": [
       "<Figure size 432x288 with 1 Axes>"
      ]
     },
     "metadata": {
      "needs_background": "light"
     },
     "output_type": "display_data"
    }
   ],
   "source": [
    "# Viewing gender and user type counts\n",
    "sb.countplot(data = bike_df, x = 'member_gender', hue = 'user_type')\n",
    "\n",
    "# Labeling the axes and title \n",
    "plt.title('Gender and User Type Description')\n",
    "plt.xlabel('Gender')\n",
    "plt.ylabel('Count');"
   ]
  },
  {
   "cell_type": "markdown",
   "id": "e7512b67",
   "metadata": {
    "slideshow": {
     "slide_type": "fragment"
    }
   },
   "source": [
    "**Observation:**\n",
    "\n",
    "**Male subscriber riders are more than female subscribers.**"
   ]
  },
  {
   "cell_type": "code",
   "execution_count": 16,
   "id": "a9e41347",
   "metadata": {
    "slideshow": {
     "slide_type": "slide"
    }
   },
   "outputs": [
    {
     "data": {
      "image/png": "[encoded data removed]",
      "text/plain": [
       "<Figure size 432x288 with 1 Axes>"
      ]
     },
     "metadata": {
      "needs_background": "light"
     },
     "output_type": "display_data"
    }
   ],
   "source": [
    "# Viewing rides during the day by each gender \n",
    "sb.countplot(data = bike_df, x = 'period_of_day', hue = 'member_gender')\n",
    "\n",
    "# Labeling the axes and title \n",
    "plt.title('Gender and Daily Ride Description')\n",
    "plt.xlabel('Period of Day')\n",
    "plt.ylabel('Count');"
   ]
  },
  {
   "cell_type": "markdown",
   "id": "000bb4c5",
   "metadata": {
    "slideshow": {
     "slide_type": "fragment"
    }
   },
   "source": [
    "**Observation:**\n",
    "\n",
    "**Male riders ride more during the day than female ones.**"
   ]
  },
  {
   "cell_type": "code",
   "execution_count": 17,
   "id": "d22ed162",
   "metadata": {
    "slideshow": {
     "slide_type": "slide"
    }
   },
   "outputs": [
    {
     "data": {
      "image/png": "[encoded data removed]",
      "text/plain": [
       "<Figure size 432x288 with 1 Axes>"
      ]
     },
     "metadata": {
      "needs_background": "light"
     },
     "output_type": "display_data"
    }
   ],
   "source": [
    "# Viewing ride duration during the week and period of day\n",
    "ax = sb.barplot(data = bike_df, x = 'week_days', y = 'duration_min', hue = 'period_of_day')\n",
    "ax.legend(loc = 8, ncol = 3, framealpha = 1, title = 'period_of_day')\n",
    "\n",
    "# Labeling the axes and title \n",
    "plt.title('Weekly Ride Duration in Different Period of Day')\n",
    "plt.xlabel('Week Days')\n",
    "plt.ylabel('Duration (min)');"
   ]
  },
  {
   "cell_type": "markdown",
   "id": "81173a18",
   "metadata": {
    "slideshow": {
     "slide_type": "fragment"
    }
   },
   "source": [
    "**Observation**\n",
    "\n",
    "**During the weekends, afternoon ride duration average is the highest.**"
   ]
  },
  {
   "cell_type": "markdown",
   "id": "b7ff650d",
   "metadata": {
    "slideshow": {
     "slide_type": "slide"
    }
   },
   "source": [
    "<a id='call'></a>\n",
    "### Call to Action"
   ]
  },
  {
   "cell_type": "markdown",
   "id": "4261901e",
   "metadata": {
    "slideshow": {
     "slide_type": "subslide"
    }
   },
   "source": [
    "\n",
    "\n",
    "**Summary**\n",
    "\n",
    "**Observation:**\n",
    "    Rides are more during the morning than afternoon and night, rides are lower during the night\n",
    "    \n",
    "**Action:** \n",
    "    Making the available number of the bikes during the morning is crucial\n",
    "\n",
    "**Observation:**\n",
    "    Younger people rides longer distance than older ones\n",
    "    \n",
    "**Action:** \n",
    "    Target the Generation X in awareness and marketing \n",
    "\n",
    "**Observation:**\n",
    "    Males are more prone to be subscriber than females\n",
    "    Males ride more than females \n",
    "    \n",
    "**Action:**\n",
    "    Target the female riders in marketing to increase the number of the female subscribers\n",
    "    \n",
    "**Observation:**\n",
    "    During the weekends, duration of the rides are the highest on afternoons, however, in general, rides during the weekends are the lowest\n",
    "    \n",
    "**Action:**\n",
    "    Making the available number of the bikes during the afternoon"
   ]
  },
  {
   "cell_type": "code",
   "execution_count": null,
   "id": "a4c7cc06",
   "metadata": {
    "slideshow": {
     "slide_type": "skip"
    }
   },
   "outputs": [],
   "source": []
  }
 ],
 "metadata": {
  "celltoolbar": "Slideshow",
  "kernelspec": {
   "display_name": "Python 3",
   "language": "python",
   "name": "python3"
  },
  "language_info": {
   "codemirror_mode": {
    "name": "ipython",
    "version": 3
   },
   "file_extension": ".py",
   "mimetype": "text/x-python",
   "name": "python",
   "nbconvert_exporter": "python",
   "pygments_lexer": "ipython3",
   "version": "3.7.10"
  }
 },
 "nbformat": 4,
 "nbformat_minor": 5
}
