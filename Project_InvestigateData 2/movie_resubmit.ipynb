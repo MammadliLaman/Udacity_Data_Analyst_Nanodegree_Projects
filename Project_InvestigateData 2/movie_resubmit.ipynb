{
 "cells": [
  {
   "cell_type": "markdown",
   "id": "1f4d55f5",
   "metadata": {},
   "source": [
    "# Investigated Data Set - TMDb Movie Data  \n",
    "\n",
    "\n",
    "\n",
    "## Asking Questions Phase\n",
    "\n",
    "I investigated the movie dataset. I would like to answer the questions below: \n",
    "1. In which years the Comedy genre has been produced?\n",
    "2. Is budget and profit correlated?\n",
    "3. Do longer movies need more budget?\n",
    "4. Do high profit movies have high popularity?\n",
    "5. Do the movies' popularity increase year by year?\n",
    "6. How do the length of movies change overtime?\n",
    "\n",
    "\n",
    "\n",
    "\n",
    "\n",
    "\n",
    "\n",
    "\n"
   ]
  },
  {
   "cell_type": "markdown",
   "id": "b331514c",
   "metadata": {},
   "source": [
    "## Data Wrangling \n",
    "### Data Acquisition / Gathering   \n",
    "Importing crucial library packages for data manupulation and wrangling."
   ]
  },
  {
   "cell_type": "code",
   "execution_count": 101,
   "id": "50d0b7fc",
   "metadata": {},
   "outputs": [
    {
     "name": "stderr",
     "output_type": "stream",
     "text": [
      "UsageError: Line magic function `%` not found.\n"
     ]
    }
   ],
   "source": [
    "# importing the required libraries for data cleaning, analysis, visualization\n",
    "import pandas as pd\n",
    "import numpy as np\n",
    "import matplotlib.pyplot as plt\n",
    "import seaborn as sns\n",
    "% matplotlib inline "
   ]
  },
  {
   "cell_type": "markdown",
   "id": "e4a9f2c4",
   "metadata": {},
   "source": [
    "### Data Assessing \n",
    "By means of pandas library I will assess the data. "
   ]
  },
  {
   "cell_type": "code",
   "execution_count": 102,
   "id": "987dce48",
   "metadata": {},
   "outputs": [
    {
     "data": {
      "text/html": [
       "<div>\n",
       "<style scoped>\n",
       "    .dataframe tbody tr th:only-of-type {\n",
       "        vertical-align: middle;\n",
       "    }\n",
       "\n",
       "    .dataframe tbody tr th {\n",
       "        vertical-align: top;\n",
       "    }\n",
       "\n",
       "    .dataframe thead th {\n",
       "        text-align: right;\n",
       "    }\n",
       "</style>\n",
       "<table border=\"1\" class=\"dataframe\">\n",
       "  <thead>\n",
       "    <tr style=\"text-align: right;\">\n",
       "      <th></th>\n",
       "      <th>id</th>\n",
       "      <th>imdb_id</th>\n",
       "      <th>popularity</th>\n",
       "      <th>budget</th>\n",
       "      <th>revenue</th>\n",
       "      <th>original_title</th>\n",
       "      <th>cast</th>\n",
       "      <th>homepage</th>\n",
       "      <th>director</th>\n",
       "      <th>tagline</th>\n",
       "      <th>...</th>\n",
       "      <th>overview</th>\n",
       "      <th>runtime</th>\n",
       "      <th>genres</th>\n",
       "      <th>production_companies</th>\n",
       "      <th>release_date</th>\n",
       "      <th>vote_count</th>\n",
       "      <th>vote_average</th>\n",
       "      <th>release_year</th>\n",
       "      <th>budget_adj</th>\n",
       "      <th>revenue_adj</th>\n",
       "    </tr>\n",
       "  </thead>\n",
       "  <tbody>\n",
       "    <tr>\n",
       "      <th>0</th>\n",
       "      <td>135397</td>\n",
       "      <td>tt0369610</td>\n",
       "      <td>32.985763</td>\n",
       "      <td>150000000</td>\n",
       "      <td>1513528810</td>\n",
       "      <td>Jurassic World</td>\n",
       "      <td>Chris Pratt|Bryce Dallas Howard|Irrfan Khan|Vi...</td>\n",
       "      <td>http://www.jurassicworld.com/</td>\n",
       "      <td>Colin Trevorrow</td>\n",
       "      <td>The park is open.</td>\n",
       "      <td>...</td>\n",
       "      <td>Twenty-two years after the events of Jurassic ...</td>\n",
       "      <td>124</td>\n",
       "      <td>Action|Adventure|Science Fiction|Thriller</td>\n",
       "      <td>Universal Studios|Amblin Entertainment|Legenda...</td>\n",
       "      <td>6/9/15</td>\n",
       "      <td>5562</td>\n",
       "      <td>6.5</td>\n",
       "      <td>2015</td>\n",
       "      <td>1.379999e+08</td>\n",
       "      <td>1.392446e+09</td>\n",
       "    </tr>\n",
       "    <tr>\n",
       "      <th>1</th>\n",
       "      <td>76341</td>\n",
       "      <td>tt1392190</td>\n",
       "      <td>28.419936</td>\n",
       "      <td>150000000</td>\n",
       "      <td>378436354</td>\n",
       "      <td>Mad Max: Fury Road</td>\n",
       "      <td>Tom Hardy|Charlize Theron|Hugh Keays-Byrne|Nic...</td>\n",
       "      <td>http://www.madmaxmovie.com/</td>\n",
       "      <td>George Miller</td>\n",
       "      <td>What a Lovely Day.</td>\n",
       "      <td>...</td>\n",
       "      <td>An apocalyptic story set in the furthest reach...</td>\n",
       "      <td>120</td>\n",
       "      <td>Action|Adventure|Science Fiction|Thriller</td>\n",
       "      <td>Village Roadshow Pictures|Kennedy Miller Produ...</td>\n",
       "      <td>5/13/15</td>\n",
       "      <td>6185</td>\n",
       "      <td>7.1</td>\n",
       "      <td>2015</td>\n",
       "      <td>1.379999e+08</td>\n",
       "      <td>3.481613e+08</td>\n",
       "    </tr>\n",
       "    <tr>\n",
       "      <th>2</th>\n",
       "      <td>262500</td>\n",
       "      <td>tt2908446</td>\n",
       "      <td>13.112507</td>\n",
       "      <td>110000000</td>\n",
       "      <td>295238201</td>\n",
       "      <td>Insurgent</td>\n",
       "      <td>Shailene Woodley|Theo James|Kate Winslet|Ansel...</td>\n",
       "      <td>http://www.thedivergentseries.movie/#insurgent</td>\n",
       "      <td>Robert Schwentke</td>\n",
       "      <td>One Choice Can Destroy You</td>\n",
       "      <td>...</td>\n",
       "      <td>Beatrice Prior must confront her inner demons ...</td>\n",
       "      <td>119</td>\n",
       "      <td>Adventure|Science Fiction|Thriller</td>\n",
       "      <td>Summit Entertainment|Mandeville Films|Red Wago...</td>\n",
       "      <td>3/18/15</td>\n",
       "      <td>2480</td>\n",
       "      <td>6.3</td>\n",
       "      <td>2015</td>\n",
       "      <td>1.012000e+08</td>\n",
       "      <td>2.716190e+08</td>\n",
       "    </tr>\n",
       "    <tr>\n",
       "      <th>3</th>\n",
       "      <td>140607</td>\n",
       "      <td>tt2488496</td>\n",
       "      <td>11.173104</td>\n",
       "      <td>200000000</td>\n",
       "      <td>2068178225</td>\n",
       "      <td>Star Wars: The Force Awakens</td>\n",
       "      <td>Harrison Ford|Mark Hamill|Carrie Fisher|Adam D...</td>\n",
       "      <td>http://www.starwars.com/films/star-wars-episod...</td>\n",
       "      <td>J.J. Abrams</td>\n",
       "      <td>Every generation has a story.</td>\n",
       "      <td>...</td>\n",
       "      <td>Thirty years after defeating the Galactic Empi...</td>\n",
       "      <td>136</td>\n",
       "      <td>Action|Adventure|Science Fiction|Fantasy</td>\n",
       "      <td>Lucasfilm|Truenorth Productions|Bad Robot</td>\n",
       "      <td>12/15/15</td>\n",
       "      <td>5292</td>\n",
       "      <td>7.5</td>\n",
       "      <td>2015</td>\n",
       "      <td>1.839999e+08</td>\n",
       "      <td>1.902723e+09</td>\n",
       "    </tr>\n",
       "    <tr>\n",
       "      <th>4</th>\n",
       "      <td>168259</td>\n",
       "      <td>tt2820852</td>\n",
       "      <td>9.335014</td>\n",
       "      <td>190000000</td>\n",
       "      <td>1506249360</td>\n",
       "      <td>Furious 7</td>\n",
       "      <td>Vin Diesel|Paul Walker|Jason Statham|Michelle ...</td>\n",
       "      <td>http://www.furious7.com/</td>\n",
       "      <td>James Wan</td>\n",
       "      <td>Vengeance Hits Home</td>\n",
       "      <td>...</td>\n",
       "      <td>Deckard Shaw seeks revenge against Dominic Tor...</td>\n",
       "      <td>137</td>\n",
       "      <td>Action|Crime|Thriller</td>\n",
       "      <td>Universal Pictures|Original Film|Media Rights ...</td>\n",
       "      <td>4/1/15</td>\n",
       "      <td>2947</td>\n",
       "      <td>7.3</td>\n",
       "      <td>2015</td>\n",
       "      <td>1.747999e+08</td>\n",
       "      <td>1.385749e+09</td>\n",
       "    </tr>\n",
       "    <tr>\n",
       "      <th>...</th>\n",
       "      <td>...</td>\n",
       "      <td>...</td>\n",
       "      <td>...</td>\n",
       "      <td>...</td>\n",
       "      <td>...</td>\n",
       "      <td>...</td>\n",
       "      <td>...</td>\n",
       "      <td>...</td>\n",
       "      <td>...</td>\n",
       "      <td>...</td>\n",
       "      <td>...</td>\n",
       "      <td>...</td>\n",
       "      <td>...</td>\n",
       "      <td>...</td>\n",
       "      <td>...</td>\n",
       "      <td>...</td>\n",
       "      <td>...</td>\n",
       "      <td>...</td>\n",
       "      <td>...</td>\n",
       "      <td>...</td>\n",
       "      <td>...</td>\n",
       "    </tr>\n",
       "    <tr>\n",
       "      <th>10861</th>\n",
       "      <td>21</td>\n",
       "      <td>tt0060371</td>\n",
       "      <td>0.080598</td>\n",
       "      <td>0</td>\n",
       "      <td>0</td>\n",
       "      <td>The Endless Summer</td>\n",
       "      <td>Michael Hynson|Robert August|Lord 'Tally Ho' B...</td>\n",
       "      <td>NaN</td>\n",
       "      <td>Bruce Brown</td>\n",
       "      <td>NaN</td>\n",
       "      <td>...</td>\n",
       "      <td>The Endless Summer, by Bruce Brown, is one of ...</td>\n",
       "      <td>95</td>\n",
       "      <td>Documentary</td>\n",
       "      <td>Bruce Brown Films</td>\n",
       "      <td>6/15/66</td>\n",
       "      <td>11</td>\n",
       "      <td>7.4</td>\n",
       "      <td>1966</td>\n",
       "      <td>0.000000e+00</td>\n",
       "      <td>0.000000e+00</td>\n",
       "    </tr>\n",
       "    <tr>\n",
       "      <th>10862</th>\n",
       "      <td>20379</td>\n",
       "      <td>tt0060472</td>\n",
       "      <td>0.065543</td>\n",
       "      <td>0</td>\n",
       "      <td>0</td>\n",
       "      <td>Grand Prix</td>\n",
       "      <td>James Garner|Eva Marie Saint|Yves Montand|Tosh...</td>\n",
       "      <td>NaN</td>\n",
       "      <td>John Frankenheimer</td>\n",
       "      <td>Cinerama sweeps YOU into a drama of speed and ...</td>\n",
       "      <td>...</td>\n",
       "      <td>Grand Prix driver Pete Aron is fired by his te...</td>\n",
       "      <td>176</td>\n",
       "      <td>Action|Adventure|Drama</td>\n",
       "      <td>Cherokee Productions|Joel Productions|Douglas ...</td>\n",
       "      <td>12/21/66</td>\n",
       "      <td>20</td>\n",
       "      <td>5.7</td>\n",
       "      <td>1966</td>\n",
       "      <td>0.000000e+00</td>\n",
       "      <td>0.000000e+00</td>\n",
       "    </tr>\n",
       "    <tr>\n",
       "      <th>10863</th>\n",
       "      <td>39768</td>\n",
       "      <td>tt0060161</td>\n",
       "      <td>0.065141</td>\n",
       "      <td>0</td>\n",
       "      <td>0</td>\n",
       "      <td>Beregis Avtomobilya</td>\n",
       "      <td>Innokentiy Smoktunovskiy|Oleg Efremov|Georgi Z...</td>\n",
       "      <td>NaN</td>\n",
       "      <td>Eldar Ryazanov</td>\n",
       "      <td>NaN</td>\n",
       "      <td>...</td>\n",
       "      <td>An insurance agent who moonlights as a carthie...</td>\n",
       "      <td>94</td>\n",
       "      <td>Mystery|Comedy</td>\n",
       "      <td>Mosfilm</td>\n",
       "      <td>1/1/66</td>\n",
       "      <td>11</td>\n",
       "      <td>6.5</td>\n",
       "      <td>1966</td>\n",
       "      <td>0.000000e+00</td>\n",
       "      <td>0.000000e+00</td>\n",
       "    </tr>\n",
       "    <tr>\n",
       "      <th>10864</th>\n",
       "      <td>21449</td>\n",
       "      <td>tt0061177</td>\n",
       "      <td>0.064317</td>\n",
       "      <td>0</td>\n",
       "      <td>0</td>\n",
       "      <td>What's Up, Tiger Lily?</td>\n",
       "      <td>Tatsuya Mihashi|Akiko Wakabayashi|Mie Hama|Joh...</td>\n",
       "      <td>NaN</td>\n",
       "      <td>Woody Allen</td>\n",
       "      <td>WOODY ALLEN STRIKES BACK!</td>\n",
       "      <td>...</td>\n",
       "      <td>In comic Woody Allen's film debut, he took the...</td>\n",
       "      <td>80</td>\n",
       "      <td>Action|Comedy</td>\n",
       "      <td>Benedict Pictures Corp.</td>\n",
       "      <td>11/2/66</td>\n",
       "      <td>22</td>\n",
       "      <td>5.4</td>\n",
       "      <td>1966</td>\n",
       "      <td>0.000000e+00</td>\n",
       "      <td>0.000000e+00</td>\n",
       "    </tr>\n",
       "    <tr>\n",
       "      <th>10865</th>\n",
       "      <td>22293</td>\n",
       "      <td>tt0060666</td>\n",
       "      <td>0.035919</td>\n",
       "      <td>19000</td>\n",
       "      <td>0</td>\n",
       "      <td>Manos: The Hands of Fate</td>\n",
       "      <td>Harold P. Warren|Tom Neyman|John Reynolds|Dian...</td>\n",
       "      <td>NaN</td>\n",
       "      <td>Harold P. Warren</td>\n",
       "      <td>It's Shocking! It's Beyond Your Imagination!</td>\n",
       "      <td>...</td>\n",
       "      <td>A family gets lost on the road and stumbles up...</td>\n",
       "      <td>74</td>\n",
       "      <td>Horror</td>\n",
       "      <td>Norm-Iris</td>\n",
       "      <td>11/15/66</td>\n",
       "      <td>15</td>\n",
       "      <td>1.5</td>\n",
       "      <td>1966</td>\n",
       "      <td>1.276423e+05</td>\n",
       "      <td>0.000000e+00</td>\n",
       "    </tr>\n",
       "  </tbody>\n",
       "</table>\n",
       "<p>10866 rows × 21 columns</p>\n",
       "</div>"
      ],
      "text/plain": [
       "           id    imdb_id  popularity     budget     revenue  \\\n",
       "0      135397  tt0369610   32.985763  150000000  1513528810   \n",
       "1       76341  tt1392190   28.419936  150000000   378436354   \n",
       "2      262500  tt2908446   13.112507  110000000   295238201   \n",
       "3      140607  tt2488496   11.173104  200000000  2068178225   \n",
       "4      168259  tt2820852    9.335014  190000000  1506249360   \n",
       "...       ...        ...         ...        ...         ...   \n",
       "10861      21  tt0060371    0.080598          0           0   \n",
       "10862   20379  tt0060472    0.065543          0           0   \n",
       "10863   39768  tt0060161    0.065141          0           0   \n",
       "10864   21449  tt0061177    0.064317          0           0   \n",
       "10865   22293  tt0060666    0.035919      19000           0   \n",
       "\n",
       "                     original_title  \\\n",
       "0                    Jurassic World   \n",
       "1                Mad Max: Fury Road   \n",
       "2                         Insurgent   \n",
       "3      Star Wars: The Force Awakens   \n",
       "4                         Furious 7   \n",
       "...                             ...   \n",
       "10861            The Endless Summer   \n",
       "10862                    Grand Prix   \n",
       "10863           Beregis Avtomobilya   \n",
       "10864        What's Up, Tiger Lily?   \n",
       "10865      Manos: The Hands of Fate   \n",
       "\n",
       "                                                    cast  \\\n",
       "0      Chris Pratt|Bryce Dallas Howard|Irrfan Khan|Vi...   \n",
       "1      Tom Hardy|Charlize Theron|Hugh Keays-Byrne|Nic...   \n",
       "2      Shailene Woodley|Theo James|Kate Winslet|Ansel...   \n",
       "3      Harrison Ford|Mark Hamill|Carrie Fisher|Adam D...   \n",
       "4      Vin Diesel|Paul Walker|Jason Statham|Michelle ...   \n",
       "...                                                  ...   \n",
       "10861  Michael Hynson|Robert August|Lord 'Tally Ho' B...   \n",
       "10862  James Garner|Eva Marie Saint|Yves Montand|Tosh...   \n",
       "10863  Innokentiy Smoktunovskiy|Oleg Efremov|Georgi Z...   \n",
       "10864  Tatsuya Mihashi|Akiko Wakabayashi|Mie Hama|Joh...   \n",
       "10865  Harold P. Warren|Tom Neyman|John Reynolds|Dian...   \n",
       "\n",
       "                                                homepage            director  \\\n",
       "0                          http://www.jurassicworld.com/     Colin Trevorrow   \n",
       "1                            http://www.madmaxmovie.com/       George Miller   \n",
       "2         http://www.thedivergentseries.movie/#insurgent    Robert Schwentke   \n",
       "3      http://www.starwars.com/films/star-wars-episod...         J.J. Abrams   \n",
       "4                               http://www.furious7.com/           James Wan   \n",
       "...                                                  ...                 ...   \n",
       "10861                                                NaN         Bruce Brown   \n",
       "10862                                                NaN  John Frankenheimer   \n",
       "10863                                                NaN      Eldar Ryazanov   \n",
       "10864                                                NaN         Woody Allen   \n",
       "10865                                                NaN    Harold P. Warren   \n",
       "\n",
       "                                                 tagline  ...  \\\n",
       "0                                      The park is open.  ...   \n",
       "1                                     What a Lovely Day.  ...   \n",
       "2                             One Choice Can Destroy You  ...   \n",
       "3                          Every generation has a story.  ...   \n",
       "4                                    Vengeance Hits Home  ...   \n",
       "...                                                  ...  ...   \n",
       "10861                                                NaN  ...   \n",
       "10862  Cinerama sweeps YOU into a drama of speed and ...  ...   \n",
       "10863                                                NaN  ...   \n",
       "10864                          WOODY ALLEN STRIKES BACK!  ...   \n",
       "10865       It's Shocking! It's Beyond Your Imagination!  ...   \n",
       "\n",
       "                                                overview runtime  \\\n",
       "0      Twenty-two years after the events of Jurassic ...     124   \n",
       "1      An apocalyptic story set in the furthest reach...     120   \n",
       "2      Beatrice Prior must confront her inner demons ...     119   \n",
       "3      Thirty years after defeating the Galactic Empi...     136   \n",
       "4      Deckard Shaw seeks revenge against Dominic Tor...     137   \n",
       "...                                                  ...     ...   \n",
       "10861  The Endless Summer, by Bruce Brown, is one of ...      95   \n",
       "10862  Grand Prix driver Pete Aron is fired by his te...     176   \n",
       "10863  An insurance agent who moonlights as a carthie...      94   \n",
       "10864  In comic Woody Allen's film debut, he took the...      80   \n",
       "10865  A family gets lost on the road and stumbles up...      74   \n",
       "\n",
       "                                          genres  \\\n",
       "0      Action|Adventure|Science Fiction|Thriller   \n",
       "1      Action|Adventure|Science Fiction|Thriller   \n",
       "2             Adventure|Science Fiction|Thriller   \n",
       "3       Action|Adventure|Science Fiction|Fantasy   \n",
       "4                          Action|Crime|Thriller   \n",
       "...                                          ...   \n",
       "10861                                Documentary   \n",
       "10862                     Action|Adventure|Drama   \n",
       "10863                             Mystery|Comedy   \n",
       "10864                              Action|Comedy   \n",
       "10865                                     Horror   \n",
       "\n",
       "                                    production_companies release_date  \\\n",
       "0      Universal Studios|Amblin Entertainment|Legenda...       6/9/15   \n",
       "1      Village Roadshow Pictures|Kennedy Miller Produ...      5/13/15   \n",
       "2      Summit Entertainment|Mandeville Films|Red Wago...      3/18/15   \n",
       "3              Lucasfilm|Truenorth Productions|Bad Robot     12/15/15   \n",
       "4      Universal Pictures|Original Film|Media Rights ...       4/1/15   \n",
       "...                                                  ...          ...   \n",
       "10861                                  Bruce Brown Films      6/15/66   \n",
       "10862  Cherokee Productions|Joel Productions|Douglas ...     12/21/66   \n",
       "10863                                            Mosfilm       1/1/66   \n",
       "10864                            Benedict Pictures Corp.      11/2/66   \n",
       "10865                                          Norm-Iris     11/15/66   \n",
       "\n",
       "      vote_count  vote_average  release_year    budget_adj   revenue_adj  \n",
       "0           5562           6.5          2015  1.379999e+08  1.392446e+09  \n",
       "1           6185           7.1          2015  1.379999e+08  3.481613e+08  \n",
       "2           2480           6.3          2015  1.012000e+08  2.716190e+08  \n",
       "3           5292           7.5          2015  1.839999e+08  1.902723e+09  \n",
       "4           2947           7.3          2015  1.747999e+08  1.385749e+09  \n",
       "...          ...           ...           ...           ...           ...  \n",
       "10861         11           7.4          1966  0.000000e+00  0.000000e+00  \n",
       "10862         20           5.7          1966  0.000000e+00  0.000000e+00  \n",
       "10863         11           6.5          1966  0.000000e+00  0.000000e+00  \n",
       "10864         22           5.4          1966  0.000000e+00  0.000000e+00  \n",
       "10865         15           1.5          1966  1.276423e+05  0.000000e+00  \n",
       "\n",
       "[10866 rows x 21 columns]"
      ]
     },
     "execution_count": 102,
     "metadata": {},
     "output_type": "execute_result"
    }
   ],
   "source": [
    "# reading the dataset \n",
    "movie_df = pd.read_csv('tmdb-movies.csv')\n",
    "\n",
    "# viewing the first 5 entries \n",
    "movie_df"
   ]
  },
  {
   "cell_type": "code",
   "execution_count": 103,
   "id": "b2d64b85",
   "metadata": {},
   "outputs": [
    {
     "data": {
      "text/plain": [
       "(10866, 21)"
      ]
     },
     "execution_count": 103,
     "metadata": {},
     "output_type": "execute_result"
    }
   ],
   "source": [
    "# getting the number of the rows and columns \n",
    "movie_df.shape"
   ]
  },
  {
   "cell_type": "code",
   "execution_count": 104,
   "id": "26740cfa",
   "metadata": {},
   "outputs": [
    {
     "data": {
      "text/html": [
       "<div>\n",
       "<style scoped>\n",
       "    .dataframe tbody tr th:only-of-type {\n",
       "        vertical-align: middle;\n",
       "    }\n",
       "\n",
       "    .dataframe tbody tr th {\n",
       "        vertical-align: top;\n",
       "    }\n",
       "\n",
       "    .dataframe thead th {\n",
       "        text-align: right;\n",
       "    }\n",
       "</style>\n",
       "<table border=\"1\" class=\"dataframe\">\n",
       "  <thead>\n",
       "    <tr style=\"text-align: right;\">\n",
       "      <th></th>\n",
       "      <th>id</th>\n",
       "      <th>popularity</th>\n",
       "      <th>budget</th>\n",
       "      <th>revenue</th>\n",
       "      <th>runtime</th>\n",
       "      <th>vote_count</th>\n",
       "      <th>vote_average</th>\n",
       "      <th>release_year</th>\n",
       "      <th>budget_adj</th>\n",
       "      <th>revenue_adj</th>\n",
       "    </tr>\n",
       "  </thead>\n",
       "  <tbody>\n",
       "    <tr>\n",
       "      <th>count</th>\n",
       "      <td>10866.000000</td>\n",
       "      <td>10866.000000</td>\n",
       "      <td>1.086600e+04</td>\n",
       "      <td>1.086600e+04</td>\n",
       "      <td>10866.000000</td>\n",
       "      <td>10866.000000</td>\n",
       "      <td>10866.000000</td>\n",
       "      <td>10866.000000</td>\n",
       "      <td>1.086600e+04</td>\n",
       "      <td>1.086600e+04</td>\n",
       "    </tr>\n",
       "    <tr>\n",
       "      <th>mean</th>\n",
       "      <td>66064.177434</td>\n",
       "      <td>0.646441</td>\n",
       "      <td>1.462570e+07</td>\n",
       "      <td>3.982332e+07</td>\n",
       "      <td>102.070863</td>\n",
       "      <td>217.389748</td>\n",
       "      <td>5.974922</td>\n",
       "      <td>2001.322658</td>\n",
       "      <td>1.755104e+07</td>\n",
       "      <td>5.136436e+07</td>\n",
       "    </tr>\n",
       "    <tr>\n",
       "      <th>std</th>\n",
       "      <td>92130.136561</td>\n",
       "      <td>1.000185</td>\n",
       "      <td>3.091321e+07</td>\n",
       "      <td>1.170035e+08</td>\n",
       "      <td>31.381405</td>\n",
       "      <td>575.619058</td>\n",
       "      <td>0.935142</td>\n",
       "      <td>12.812941</td>\n",
       "      <td>3.430616e+07</td>\n",
       "      <td>1.446325e+08</td>\n",
       "    </tr>\n",
       "    <tr>\n",
       "      <th>min</th>\n",
       "      <td>5.000000</td>\n",
       "      <td>0.000065</td>\n",
       "      <td>0.000000e+00</td>\n",
       "      <td>0.000000e+00</td>\n",
       "      <td>0.000000</td>\n",
       "      <td>10.000000</td>\n",
       "      <td>1.500000</td>\n",
       "      <td>1960.000000</td>\n",
       "      <td>0.000000e+00</td>\n",
       "      <td>0.000000e+00</td>\n",
       "    </tr>\n",
       "    <tr>\n",
       "      <th>25%</th>\n",
       "      <td>10596.250000</td>\n",
       "      <td>0.207583</td>\n",
       "      <td>0.000000e+00</td>\n",
       "      <td>0.000000e+00</td>\n",
       "      <td>90.000000</td>\n",
       "      <td>17.000000</td>\n",
       "      <td>5.400000</td>\n",
       "      <td>1995.000000</td>\n",
       "      <td>0.000000e+00</td>\n",
       "      <td>0.000000e+00</td>\n",
       "    </tr>\n",
       "    <tr>\n",
       "      <th>50%</th>\n",
       "      <td>20669.000000</td>\n",
       "      <td>0.383856</td>\n",
       "      <td>0.000000e+00</td>\n",
       "      <td>0.000000e+00</td>\n",
       "      <td>99.000000</td>\n",
       "      <td>38.000000</td>\n",
       "      <td>6.000000</td>\n",
       "      <td>2006.000000</td>\n",
       "      <td>0.000000e+00</td>\n",
       "      <td>0.000000e+00</td>\n",
       "    </tr>\n",
       "    <tr>\n",
       "      <th>75%</th>\n",
       "      <td>75610.000000</td>\n",
       "      <td>0.713817</td>\n",
       "      <td>1.500000e+07</td>\n",
       "      <td>2.400000e+07</td>\n",
       "      <td>111.000000</td>\n",
       "      <td>145.750000</td>\n",
       "      <td>6.600000</td>\n",
       "      <td>2011.000000</td>\n",
       "      <td>2.085325e+07</td>\n",
       "      <td>3.369710e+07</td>\n",
       "    </tr>\n",
       "    <tr>\n",
       "      <th>max</th>\n",
       "      <td>417859.000000</td>\n",
       "      <td>32.985763</td>\n",
       "      <td>4.250000e+08</td>\n",
       "      <td>2.781506e+09</td>\n",
       "      <td>900.000000</td>\n",
       "      <td>9767.000000</td>\n",
       "      <td>9.200000</td>\n",
       "      <td>2015.000000</td>\n",
       "      <td>4.250000e+08</td>\n",
       "      <td>2.827124e+09</td>\n",
       "    </tr>\n",
       "  </tbody>\n",
       "</table>\n",
       "</div>"
      ],
      "text/plain": [
       "                  id    popularity        budget       revenue       runtime  \\\n",
       "count   10866.000000  10866.000000  1.086600e+04  1.086600e+04  10866.000000   \n",
       "mean    66064.177434      0.646441  1.462570e+07  3.982332e+07    102.070863   \n",
       "std     92130.136561      1.000185  3.091321e+07  1.170035e+08     31.381405   \n",
       "min         5.000000      0.000065  0.000000e+00  0.000000e+00      0.000000   \n",
       "25%     10596.250000      0.207583  0.000000e+00  0.000000e+00     90.000000   \n",
       "50%     20669.000000      0.383856  0.000000e+00  0.000000e+00     99.000000   \n",
       "75%     75610.000000      0.713817  1.500000e+07  2.400000e+07    111.000000   \n",
       "max    417859.000000     32.985763  4.250000e+08  2.781506e+09    900.000000   \n",
       "\n",
       "         vote_count  vote_average  release_year    budget_adj   revenue_adj  \n",
       "count  10866.000000  10866.000000  10866.000000  1.086600e+04  1.086600e+04  \n",
       "mean     217.389748      5.974922   2001.322658  1.755104e+07  5.136436e+07  \n",
       "std      575.619058      0.935142     12.812941  3.430616e+07  1.446325e+08  \n",
       "min       10.000000      1.500000   1960.000000  0.000000e+00  0.000000e+00  \n",
       "25%       17.000000      5.400000   1995.000000  0.000000e+00  0.000000e+00  \n",
       "50%       38.000000      6.000000   2006.000000  0.000000e+00  0.000000e+00  \n",
       "75%      145.750000      6.600000   2011.000000  2.085325e+07  3.369710e+07  \n",
       "max     9767.000000      9.200000   2015.000000  4.250000e+08  2.827124e+09  "
      ]
     },
     "execution_count": 104,
     "metadata": {},
     "output_type": "execute_result"
    }
   ],
   "source": [
    "# finding the statistical information (5 number summary, standard deviation, mean and count)\n",
    "movie_df.describe()"
   ]
  },
  {
   "cell_type": "code",
   "execution_count": 105,
   "id": "ccb1ea8c",
   "metadata": {},
   "outputs": [
    {
     "data": {
      "text/plain": [
       "id                        int64\n",
       "imdb_id                  object\n",
       "popularity              float64\n",
       "budget                    int64\n",
       "revenue                   int64\n",
       "original_title           object\n",
       "cast                     object\n",
       "homepage                 object\n",
       "director                 object\n",
       "tagline                  object\n",
       "keywords                 object\n",
       "overview                 object\n",
       "runtime                   int64\n",
       "genres                   object\n",
       "production_companies     object\n",
       "release_date             object\n",
       "vote_count                int64\n",
       "vote_average            float64\n",
       "release_year              int64\n",
       "budget_adj              float64\n",
       "revenue_adj             float64\n",
       "dtype: object"
      ]
     },
     "execution_count": 105,
     "metadata": {},
     "output_type": "execute_result"
    }
   ],
   "source": [
    "# getting the data types of the each variable\n",
    "movie_df.dtypes"
   ]
  },
  {
   "cell_type": "code",
   "execution_count": 106,
   "id": "60e61002",
   "metadata": {},
   "outputs": [
    {
     "name": "stdout",
     "output_type": "stream",
     "text": [
      "<class 'pandas.core.frame.DataFrame'>\n",
      "RangeIndex: 10866 entries, 0 to 10865\n",
      "Data columns (total 21 columns):\n",
      " #   Column                Non-Null Count  Dtype  \n",
      "---  ------                --------------  -----  \n",
      " 0   id                    10866 non-null  int64  \n",
      " 1   imdb_id               10856 non-null  object \n",
      " 2   popularity            10866 non-null  float64\n",
      " 3   budget                10866 non-null  int64  \n",
      " 4   revenue               10866 non-null  int64  \n",
      " 5   original_title        10866 non-null  object \n",
      " 6   cast                  10790 non-null  object \n",
      " 7   homepage              2936 non-null   object \n",
      " 8   director              10822 non-null  object \n",
      " 9   tagline               8042 non-null   object \n",
      " 10  keywords              9373 non-null   object \n",
      " 11  overview              10862 non-null  object \n",
      " 12  runtime               10866 non-null  int64  \n",
      " 13  genres                10843 non-null  object \n",
      " 14  production_companies  9836 non-null   object \n",
      " 15  release_date          10866 non-null  object \n",
      " 16  vote_count            10866 non-null  int64  \n",
      " 17  vote_average          10866 non-null  float64\n",
      " 18  release_year          10866 non-null  int64  \n",
      " 19  budget_adj            10866 non-null  float64\n",
      " 20  revenue_adj           10866 non-null  float64\n",
      "dtypes: float64(4), int64(6), object(11)\n",
      "memory usage: 1.7+ MB\n"
     ]
    }
   ],
   "source": [
    "# viewing the data types and number of the null values \n",
    "movie_df.info()"
   ]
  },
  {
   "cell_type": "code",
   "execution_count": 107,
   "id": "a9cbc053",
   "metadata": {},
   "outputs": [
    {
     "data": {
      "text/plain": [
       "id                      10865\n",
       "imdb_id                 10855\n",
       "popularity              10814\n",
       "budget                    557\n",
       "revenue                  4702\n",
       "original_title          10571\n",
       "cast                    10719\n",
       "homepage                 2896\n",
       "director                 5067\n",
       "tagline                  7997\n",
       "keywords                 8804\n",
       "overview                10847\n",
       "runtime                   247\n",
       "genres                   2039\n",
       "production_companies     7445\n",
       "release_date             5909\n",
       "vote_count               1289\n",
       "vote_average               72\n",
       "release_year               56\n",
       "budget_adj               2614\n",
       "revenue_adj              4840\n",
       "dtype: int64"
      ]
     },
     "execution_count": 107,
     "metadata": {},
     "output_type": "execute_result"
    }
   ],
   "source": [
    "# getting the number of the unique values\n",
    "movie_df.nunique()"
   ]
  },
  {
   "cell_type": "code",
   "execution_count": 108,
   "id": "2e6aad6f",
   "metadata": {},
   "outputs": [
    {
     "data": {
      "text/plain": [
       "1"
      ]
     },
     "execution_count": 108,
     "metadata": {},
     "output_type": "execute_result"
    }
   ],
   "source": [
    "# finding the number of the duplicated entries \n",
    "movie_df.duplicated().sum()"
   ]
  },
  {
   "cell_type": "code",
   "execution_count": 109,
   "id": "5a7c3905",
   "metadata": {},
   "outputs": [
    {
     "data": {
      "text/plain": [
       "id                         0\n",
       "imdb_id                   10\n",
       "popularity                 0\n",
       "budget                     0\n",
       "revenue                    0\n",
       "original_title             0\n",
       "cast                      76\n",
       "homepage                7930\n",
       "director                  44\n",
       "tagline                 2824\n",
       "keywords                1493\n",
       "overview                   4\n",
       "runtime                    0\n",
       "genres                    23\n",
       "production_companies    1030\n",
       "release_date               0\n",
       "vote_count                 0\n",
       "vote_average               0\n",
       "release_year               0\n",
       "budget_adj                 0\n",
       "revenue_adj                0\n",
       "dtype: int64"
      ]
     },
     "execution_count": 109,
     "metadata": {},
     "output_type": "execute_result"
    }
   ],
   "source": [
    "# finding number of the null values \n",
    "movie_df.isnull().sum()"
   ]
  },
  {
   "cell_type": "markdown",
   "id": "0f0edadf",
   "metadata": {},
   "source": [
    "#### Quality issues \n",
    "\n",
    "- Errorenous datatype in one variable (release_date)\n",
    "- One duplicated record\n",
    "- 0 record in several rows for revenue and budget variables \n",
    "- Missing values/null values (cast(10790), homepage(2936), director(10822), tagline(8042), keywords(9373), overview(10862), genres(10843), production_companies(9836))\n",
    " \n",
    "\n",
    "\n",
    "\n",
    "#### Tidiness issues \n",
    "\n",
    "- Some variables are not needed for my investigation ('imdb_id', 'homepage', 'tagline', 'keywords', 'overview', 'budget_adj', 'revenue_adj')"
   ]
  },
  {
   "cell_type": "markdown",
   "id": "4d763796",
   "metadata": {},
   "source": [
    "### Data Cleaning  \n",
    "After assessing data, I find several quality and tidiness issues to deal with in the cleaning phase. I will solve the problems with defining, coding and testing sequence. "
   ]
  },
  {
   "cell_type": "markdown",
   "id": "92760f46",
   "metadata": {},
   "source": [
    "#### Tidiness issues - Some variables are not needed for my investigation \n",
    "\n",
    "#### Define \n",
    "Drop the unnecessary columns. "
   ]
  },
  {
   "cell_type": "markdown",
   "id": "77c83bdf",
   "metadata": {},
   "source": [
    "#### Code "
   ]
  },
  {
   "cell_type": "code",
   "execution_count": 110,
   "id": "7fbede7a",
   "metadata": {},
   "outputs": [],
   "source": [
    "\n",
    "# dropping the useless variables \n",
    "deleted_columns = ['imdb_id', 'homepage', 'tagline', 'keywords', 'overview', 'budget_adj', 'revenue_adj']\n",
    "movie_df.drop(deleted_columns, axis = 1, inplace = True)"
   ]
  },
  {
   "cell_type": "markdown",
   "id": "87e1a3eb",
   "metadata": {},
   "source": [
    "#### Test "
   ]
  },
  {
   "cell_type": "code",
   "execution_count": 111,
   "id": "8fdd4498",
   "metadata": {},
   "outputs": [
    {
     "data": {
      "text/plain": [
       "(10866, 14)"
      ]
     },
     "execution_count": 111,
     "metadata": {},
     "output_type": "execute_result"
    }
   ],
   "source": [
    "movie_df.shape"
   ]
  },
  {
   "cell_type": "markdown",
   "id": "989dbd54",
   "metadata": {},
   "source": [
    "#### Quality issues - Errorenous datatype in one variable (release_date)\n",
    "\n",
    "#### Define \n",
    "Convert the object data type to the datetime64 data type. "
   ]
  },
  {
   "cell_type": "markdown",
   "id": "21f6636a",
   "metadata": {},
   "source": [
    "#### Code "
   ]
  },
  {
   "cell_type": "code",
   "execution_count": 112,
   "id": "d3068666",
   "metadata": {},
   "outputs": [],
   "source": [
    "# converting the data type of the release_date variable from string to datetime\n",
    "movie_df['release_date'] = pd.to_datetime(movie_df['release_date'])\n"
   ]
  },
  {
   "cell_type": "markdown",
   "id": "8f081bf2",
   "metadata": {},
   "source": [
    "#### Test "
   ]
  },
  {
   "cell_type": "code",
   "execution_count": 113,
   "id": "fdba673a",
   "metadata": {},
   "outputs": [
    {
     "data": {
      "text/plain": [
       "0   2015-06-09\n",
       "1   2015-05-13\n",
       "2   2015-03-18\n",
       "3   2015-12-15\n",
       "4   2015-04-01\n",
       "Name: release_date, dtype: datetime64[ns]"
      ]
     },
     "execution_count": 113,
     "metadata": {},
     "output_type": "execute_result"
    }
   ],
   "source": [
    "movie_df['release_date'].head()"
   ]
  },
  {
   "cell_type": "markdown",
   "id": "69b11c47",
   "metadata": {},
   "source": [
    "#### Quality issues - One duplicated record\n",
    "\n",
    "#### Define\n",
    "Drop the duplicated record. "
   ]
  },
  {
   "cell_type": "markdown",
   "id": "33a5f240",
   "metadata": {},
   "source": [
    "#### Code "
   ]
  },
  {
   "cell_type": "code",
   "execution_count": 114,
   "id": "8a77c056",
   "metadata": {},
   "outputs": [],
   "source": [
    "# dropping the duplicated entries \n",
    "movie_df.drop_duplicates(inplace = True)"
   ]
  },
  {
   "cell_type": "markdown",
   "id": "a86f7d85",
   "metadata": {},
   "source": [
    "#### Test"
   ]
  },
  {
   "cell_type": "code",
   "execution_count": 115,
   "id": "7de1d67c",
   "metadata": {},
   "outputs": [
    {
     "data": {
      "text/plain": [
       "(10865, 14)"
      ]
     },
     "execution_count": 115,
     "metadata": {},
     "output_type": "execute_result"
    }
   ],
   "source": [
    "# again viewing the number of rows and columns after dropping the duplicates\n",
    "movie_df.shape"
   ]
  },
  {
   "cell_type": "markdown",
   "id": "9c04673d",
   "metadata": {},
   "source": [
    "#### Quality issues - 0 record in several rows for revenue and budget variables \n",
    "\n",
    "#### Define \n",
    "Replace the 0 with null values and then drop the null values in revenue and budget variables "
   ]
  },
  {
   "cell_type": "markdown",
   "id": "3355c5e0",
   "metadata": {},
   "source": [
    "#### Code "
   ]
  },
  {
   "cell_type": "code",
   "execution_count": 116,
   "id": "90994dc0",
   "metadata": {},
   "outputs": [],
   "source": [
    "# replacing the values with 0 with the null values and then drop the null value entries \n",
    "movie_df[['budget','revenue']] = movie_df[['budget','revenue']].replace(0, np.NAN)\n",
    "movie_df.dropna(subset=['budget', 'revenue'], inplace=True)"
   ]
  },
  {
   "cell_type": "markdown",
   "id": "c37d4605",
   "metadata": {},
   "source": [
    "#### Test "
   ]
  },
  {
   "cell_type": "code",
   "execution_count": 117,
   "id": "2c3ef3cd",
   "metadata": {},
   "outputs": [
    {
     "data": {
      "text/html": [
       "<div>\n",
       "<style scoped>\n",
       "    .dataframe tbody tr th:only-of-type {\n",
       "        vertical-align: middle;\n",
       "    }\n",
       "\n",
       "    .dataframe tbody tr th {\n",
       "        vertical-align: top;\n",
       "    }\n",
       "\n",
       "    .dataframe thead th {\n",
       "        text-align: right;\n",
       "    }\n",
       "</style>\n",
       "<table border=\"1\" class=\"dataframe\">\n",
       "  <thead>\n",
       "    <tr style=\"text-align: right;\">\n",
       "      <th></th>\n",
       "      <th>id</th>\n",
       "      <th>popularity</th>\n",
       "      <th>budget</th>\n",
       "      <th>revenue</th>\n",
       "      <th>runtime</th>\n",
       "      <th>vote_count</th>\n",
       "      <th>vote_average</th>\n",
       "      <th>release_year</th>\n",
       "    </tr>\n",
       "  </thead>\n",
       "  <tbody>\n",
       "    <tr>\n",
       "      <th>count</th>\n",
       "      <td>3854.000000</td>\n",
       "      <td>3854.000000</td>\n",
       "      <td>3.854000e+03</td>\n",
       "      <td>3.854000e+03</td>\n",
       "      <td>3854.000000</td>\n",
       "      <td>3854.000000</td>\n",
       "      <td>3854.000000</td>\n",
       "      <td>3854.000000</td>\n",
       "    </tr>\n",
       "    <tr>\n",
       "      <th>mean</th>\n",
       "      <td>39888.185262</td>\n",
       "      <td>1.191554</td>\n",
       "      <td>3.720370e+07</td>\n",
       "      <td>1.076866e+08</td>\n",
       "      <td>109.220291</td>\n",
       "      <td>527.720291</td>\n",
       "      <td>6.168163</td>\n",
       "      <td>2001.261028</td>\n",
       "    </tr>\n",
       "    <tr>\n",
       "      <th>std</th>\n",
       "      <td>67222.527399</td>\n",
       "      <td>1.475162</td>\n",
       "      <td>4.220822e+07</td>\n",
       "      <td>1.765393e+08</td>\n",
       "      <td>19.922820</td>\n",
       "      <td>879.956821</td>\n",
       "      <td>0.794920</td>\n",
       "      <td>11.282575</td>\n",
       "    </tr>\n",
       "    <tr>\n",
       "      <th>min</th>\n",
       "      <td>5.000000</td>\n",
       "      <td>0.001117</td>\n",
       "      <td>1.000000e+00</td>\n",
       "      <td>2.000000e+00</td>\n",
       "      <td>15.000000</td>\n",
       "      <td>10.000000</td>\n",
       "      <td>2.200000</td>\n",
       "      <td>1960.000000</td>\n",
       "    </tr>\n",
       "    <tr>\n",
       "      <th>25%</th>\n",
       "      <td>6073.500000</td>\n",
       "      <td>0.462367</td>\n",
       "      <td>1.000000e+07</td>\n",
       "      <td>1.360003e+07</td>\n",
       "      <td>95.000000</td>\n",
       "      <td>71.000000</td>\n",
       "      <td>5.700000</td>\n",
       "      <td>1995.000000</td>\n",
       "    </tr>\n",
       "    <tr>\n",
       "      <th>50%</th>\n",
       "      <td>11321.500000</td>\n",
       "      <td>0.797511</td>\n",
       "      <td>2.400000e+07</td>\n",
       "      <td>4.480000e+07</td>\n",
       "      <td>106.000000</td>\n",
       "      <td>204.000000</td>\n",
       "      <td>6.200000</td>\n",
       "      <td>2004.000000</td>\n",
       "    </tr>\n",
       "    <tr>\n",
       "      <th>75%</th>\n",
       "      <td>38573.250000</td>\n",
       "      <td>1.368324</td>\n",
       "      <td>5.000000e+07</td>\n",
       "      <td>1.242125e+08</td>\n",
       "      <td>119.000000</td>\n",
       "      <td>580.000000</td>\n",
       "      <td>6.700000</td>\n",
       "      <td>2010.000000</td>\n",
       "    </tr>\n",
       "    <tr>\n",
       "      <th>max</th>\n",
       "      <td>417859.000000</td>\n",
       "      <td>32.985763</td>\n",
       "      <td>4.250000e+08</td>\n",
       "      <td>2.781506e+09</td>\n",
       "      <td>338.000000</td>\n",
       "      <td>9767.000000</td>\n",
       "      <td>8.400000</td>\n",
       "      <td>2015.000000</td>\n",
       "    </tr>\n",
       "  </tbody>\n",
       "</table>\n",
       "</div>"
      ],
      "text/plain": [
       "                  id   popularity        budget       revenue      runtime  \\\n",
       "count    3854.000000  3854.000000  3.854000e+03  3.854000e+03  3854.000000   \n",
       "mean    39888.185262     1.191554  3.720370e+07  1.076866e+08   109.220291   \n",
       "std     67222.527399     1.475162  4.220822e+07  1.765393e+08    19.922820   \n",
       "min         5.000000     0.001117  1.000000e+00  2.000000e+00    15.000000   \n",
       "25%      6073.500000     0.462367  1.000000e+07  1.360003e+07    95.000000   \n",
       "50%     11321.500000     0.797511  2.400000e+07  4.480000e+07   106.000000   \n",
       "75%     38573.250000     1.368324  5.000000e+07  1.242125e+08   119.000000   \n",
       "max    417859.000000    32.985763  4.250000e+08  2.781506e+09   338.000000   \n",
       "\n",
       "        vote_count  vote_average  release_year  \n",
       "count  3854.000000   3854.000000   3854.000000  \n",
       "mean    527.720291      6.168163   2001.261028  \n",
       "std     879.956821      0.794920     11.282575  \n",
       "min      10.000000      2.200000   1960.000000  \n",
       "25%      71.000000      5.700000   1995.000000  \n",
       "50%     204.000000      6.200000   2004.000000  \n",
       "75%     580.000000      6.700000   2010.000000  \n",
       "max    9767.000000      8.400000   2015.000000  "
      ]
     },
     "execution_count": 117,
     "metadata": {},
     "output_type": "execute_result"
    }
   ],
   "source": [
    "movie_df.describe()"
   ]
  },
  {
   "cell_type": "code",
   "execution_count": 118,
   "id": "25593d27",
   "metadata": {},
   "outputs": [
    {
     "data": {
      "text/plain": [
       "(3854, 14)"
      ]
     },
     "execution_count": 118,
     "metadata": {},
     "output_type": "execute_result"
    }
   ],
   "source": [
    "movie_df.shape"
   ]
  },
  {
   "cell_type": "code",
   "execution_count": 22,
   "id": "1c3bf264",
   "metadata": {},
   "outputs": [
    {
     "name": "stdout",
     "output_type": "stream",
     "text": [
      "<class 'pandas.core.frame.DataFrame'>\n",
      "Int64Index: 3854 entries, 0 to 10848\n",
      "Data columns (total 14 columns):\n",
      " #   Column                Non-Null Count  Dtype         \n",
      "---  ------                --------------  -----         \n",
      " 0   id                    3854 non-null   int64         \n",
      " 1   popularity            3854 non-null   float64       \n",
      " 2   budget                3854 non-null   float64       \n",
      " 3   revenue               3854 non-null   float64       \n",
      " 4   original_title        3854 non-null   object        \n",
      " 5   cast                  3850 non-null   object        \n",
      " 6   director              3853 non-null   object        \n",
      " 7   runtime               3854 non-null   int64         \n",
      " 8   genres                3854 non-null   object        \n",
      " 9   production_companies  3808 non-null   object        \n",
      " 10  release_date          3854 non-null   datetime64[ns]\n",
      " 11  vote_count            3854 non-null   int64         \n",
      " 12  vote_average          3854 non-null   float64       \n",
      " 13  release_year          3854 non-null   int64         \n",
      "dtypes: datetime64[ns](1), float64(4), int64(4), object(5)\n",
      "memory usage: 451.6+ KB\n"
     ]
    }
   ],
   "source": [
    "movie_df.info()"
   ]
  },
  {
   "cell_type": "markdown",
   "id": "9b5be83b",
   "metadata": {},
   "source": [
    "#### Quality issues - Missing values/null values (cast(10790), homepage(2936), director(10822), tagline(8042), keywords(9373), overview(10862), genres(10843), production_companies(9836))\n",
    "\n",
    "#### Define \n",
    "Reassess the data again and see that what records have been dealt with already. "
   ]
  },
  {
   "cell_type": "markdown",
   "id": "a722401e",
   "metadata": {},
   "source": [
    "#### Code for assessing "
   ]
  },
  {
   "cell_type": "code",
   "execution_count": 119,
   "id": "f4f8beaf",
   "metadata": {},
   "outputs": [
    {
     "name": "stdout",
     "output_type": "stream",
     "text": [
      "<class 'pandas.core.frame.DataFrame'>\n",
      "Int64Index: 3854 entries, 0 to 10848\n",
      "Data columns (total 14 columns):\n",
      " #   Column                Non-Null Count  Dtype         \n",
      "---  ------                --------------  -----         \n",
      " 0   id                    3854 non-null   int64         \n",
      " 1   popularity            3854 non-null   float64       \n",
      " 2   budget                3854 non-null   float64       \n",
      " 3   revenue               3854 non-null   float64       \n",
      " 4   original_title        3854 non-null   object        \n",
      " 5   cast                  3850 non-null   object        \n",
      " 6   director              3853 non-null   object        \n",
      " 7   runtime               3854 non-null   int64         \n",
      " 8   genres                3854 non-null   object        \n",
      " 9   production_companies  3808 non-null   object        \n",
      " 10  release_date          3854 non-null   datetime64[ns]\n",
      " 11  vote_count            3854 non-null   int64         \n",
      " 12  vote_average          3854 non-null   float64       \n",
      " 13  release_year          3854 non-null   int64         \n",
      "dtypes: datetime64[ns](1), float64(4), int64(4), object(5)\n",
      "memory usage: 451.6+ KB\n"
     ]
    }
   ],
   "source": [
    "movie_df.info()"
   ]
  },
  {
   "cell_type": "markdown",
   "id": "66ab9a01",
   "metadata": {},
   "source": [
    "It seems that most of the variables have been dropped. Only cast(4), director(1), production_companies(46) have missed values. And they are a few in quantity and we can keep it as it is. "
   ]
  },
  {
   "cell_type": "markdown",
   "id": "f86b2e5e",
   "metadata": {},
   "source": [
    "Now after completing the wrangling phase, we can save the edited version of the data. After saving it is necessary to check the data again."
   ]
  },
  {
   "cell_type": "code",
   "execution_count": 120,
   "id": "132c149f",
   "metadata": {},
   "outputs": [
    {
     "name": "stdout",
     "output_type": "stream",
     "text": [
      "<class 'pandas.core.frame.DataFrame'>\n",
      "RangeIndex: 3854 entries, 0 to 3853\n",
      "Data columns (total 14 columns):\n",
      " #   Column                Non-Null Count  Dtype  \n",
      "---  ------                --------------  -----  \n",
      " 0   id                    3854 non-null   int64  \n",
      " 1   popularity            3854 non-null   float64\n",
      " 2   budget                3854 non-null   float64\n",
      " 3   revenue               3854 non-null   float64\n",
      " 4   original_title        3854 non-null   object \n",
      " 5   cast                  3850 non-null   object \n",
      " 6   director              3853 non-null   object \n",
      " 7   runtime               3854 non-null   int64  \n",
      " 8   genres                3854 non-null   object \n",
      " 9   production_companies  3808 non-null   object \n",
      " 10  release_date          3854 non-null   object \n",
      " 11  vote_count            3854 non-null   int64  \n",
      " 12  vote_average          3854 non-null   float64\n",
      " 13  release_year          3854 non-null   int64  \n",
      "dtypes: float64(4), int64(4), object(6)\n",
      "memory usage: 421.7+ KB\n"
     ]
    }
   ],
   "source": [
    "# saving the edited data set \n",
    "movie_df.to_csv('movie_edited.csv', index = False)\n",
    "\n",
    "#read the edited data set \n",
    "movie_df = pd.read_csv('movie_edited.csv')\n",
    "\n",
    "#viewing the new dataset \n",
    "movie_df.head()\n",
    "movie_df.info()"
   ]
  },
  {
   "cell_type": "markdown",
   "id": "3b763fce",
   "metadata": {},
   "source": [
    "It seems everything is good, except the data type of the release_data. We need to convert it again. "
   ]
  },
  {
   "cell_type": "markdown",
   "id": "db7cdf43",
   "metadata": {},
   "source": [
    "#### Define \n",
    "Convert object data type of release_date to datetime data type. "
   ]
  },
  {
   "cell_type": "markdown",
   "id": "e1e71421",
   "metadata": {},
   "source": [
    "#### Code "
   ]
  },
  {
   "cell_type": "code",
   "execution_count": 121,
   "id": "1b6b749c",
   "metadata": {},
   "outputs": [
    {
     "data": {
      "text/plain": [
       "0   2015-06-09\n",
       "1   2015-05-13\n",
       "2   2015-03-18\n",
       "3   2015-12-15\n",
       "4   2015-04-01\n",
       "Name: release_date, dtype: datetime64[ns]"
      ]
     },
     "execution_count": 121,
     "metadata": {},
     "output_type": "execute_result"
    }
   ],
   "source": [
    "# as after saving the edited file, it is needed again change the data type of the variable 'release_date'\n",
    "movie_df['release_date'] = pd.to_datetime(movie_df['release_date'])\n",
    "movie_df['release_date'].head()"
   ]
  },
  {
   "cell_type": "markdown",
   "id": "e0d26d34",
   "metadata": {},
   "source": [
    "#### Test "
   ]
  },
  {
   "cell_type": "code",
   "execution_count": 122,
   "id": "0cef7076",
   "metadata": {},
   "outputs": [
    {
     "name": "stdout",
     "output_type": "stream",
     "text": [
      "<class 'pandas.core.frame.DataFrame'>\n",
      "RangeIndex: 3854 entries, 0 to 3853\n",
      "Data columns (total 14 columns):\n",
      " #   Column                Non-Null Count  Dtype         \n",
      "---  ------                --------------  -----         \n",
      " 0   id                    3854 non-null   int64         \n",
      " 1   popularity            3854 non-null   float64       \n",
      " 2   budget                3854 non-null   float64       \n",
      " 3   revenue               3854 non-null   float64       \n",
      " 4   original_title        3854 non-null   object        \n",
      " 5   cast                  3850 non-null   object        \n",
      " 6   director              3853 non-null   object        \n",
      " 7   runtime               3854 non-null   int64         \n",
      " 8   genres                3854 non-null   object        \n",
      " 9   production_companies  3808 non-null   object        \n",
      " 10  release_date          3854 non-null   datetime64[ns]\n",
      " 11  vote_count            3854 non-null   int64         \n",
      " 12  vote_average          3854 non-null   float64       \n",
      " 13  release_year          3854 non-null   int64         \n",
      "dtypes: datetime64[ns](1), float64(4), int64(4), object(5)\n",
      "memory usage: 421.7+ KB\n"
     ]
    }
   ],
   "source": [
    "movie_df.info()"
   ]
  },
  {
   "cell_type": "markdown",
   "id": "0bd9dcfd",
   "metadata": {},
   "source": [
    "## Data Exploration Phase \n",
    "\n",
    "In this phase, I will try to find answers to my question above. And after each visualization and summary I will share my observation respectively. "
   ]
  },
  {
   "cell_type": "markdown",
   "id": "a2f2e5ae",
   "metadata": {},
   "source": [
    "#### Question 1: In which years the Comedy genre most has been produced? "
   ]
  },
  {
   "cell_type": "code",
   "execution_count": 38,
   "id": "4ed608d8",
   "metadata": {},
   "outputs": [],
   "source": [
    "comedy = movie_df[movie_df['genres'] == 'Comedy']"
   ]
  },
  {
   "cell_type": "code",
   "execution_count": 50,
   "id": "c27f6ceb",
   "metadata": {},
   "outputs": [
    {
     "data": {
      "text/plain": [
       "<AxesSubplot:xlabel='release_year', ylabel='genres'>"
      ]
     },
     "execution_count": 50,
     "metadata": {},
     "output_type": "execute_result"
    },
    {
     "data": {
      "image/png": "[encoded data removed]",
      "text/plain": [
       "<Figure size 720x360 with 1 Axes>"
      ]
     },
     "metadata": {},
     "output_type": "display_data"
    }
   ],
   "source": [
    "sns.boxplot(data = comedy, x = 'release_year', y = 'genres', color = 'orange')"
   ]
  },
  {
   "cell_type": "markdown",
   "id": "a82ffbe4",
   "metadata": {},
   "source": [
    "#### Observation\n",
    "By means of boxplot, I can get more information, such as min, max, mean, Q1 and Q2 (5Q). It seems that after the 2010 the comedy genre has been produced more. "
   ]
  },
  {
   "cell_type": "markdown",
   "id": "219c9403",
   "metadata": {},
   "source": [
    "#### Question 2: Is budget and profit correlated? "
   ]
  },
  {
   "cell_type": "code",
   "execution_count": 60,
   "id": "fee9d76a",
   "metadata": {},
   "outputs": [
    {
     "name": "stderr",
     "output_type": "stream",
     "text": [
      "/Users/lamanmammadli/opt/anaconda3/lib/python3.7/site-packages/seaborn/_decorators.py:43: FutureWarning: Pass the following variables as keyword args: x, y. From version 0.12, the only valid positional argument will be `data`, and passing other arguments without an explicit keyword will result in an error or misinterpretation.\n",
      "  FutureWarning\n"
     ]
    },
    {
     "data": {
      "image/png": "[encoded data removed]",
      "text/plain": [
       "<Figure size 720x360 with 1 Axes>"
      ]
     },
     "metadata": {},
     "output_type": "display_data"
    }
   ],
   "source": [
    "def log_trans(x, inverse = False):\n",
    "    if not inverse:\n",
    "        return np.log10(x)\n",
    "    else:\n",
    "        return np.power(10, x)\n",
    "\n",
    "sns.regplot(movie_df['budget'], movie_df['profit'].apply(log_trans), color = 'orange');"
   ]
  },
  {
   "cell_type": "markdown",
   "id": "edad093a",
   "metadata": {},
   "source": [
    "#### Observation\n",
    "\n",
    "From the plot it seems that there is a positive correlation between the budget and profit. As the budget increase, the profit also increases. "
   ]
  },
  {
   "cell_type": "markdown",
   "id": "62555b42",
   "metadata": {},
   "source": [
    "#### Question 3: Do longer movies need more budget?"
   ]
  },
  {
   "cell_type": "code",
   "execution_count": 63,
   "id": "2d3eb1d4",
   "metadata": {},
   "outputs": [
    {
     "data": {
      "text/plain": [
       "<AxesSubplot:xlabel='runtime', ylabel='budget'>"
      ]
     },
     "execution_count": 63,
     "metadata": {},
     "output_type": "execute_result"
    },
    {
     "data": {
      "image/png": "[encoded data removed]",
      "text/plain": [
       "<Figure size 720x360 with 1 Axes>"
      ]
     },
     "metadata": {},
     "output_type": "display_data"
    }
   ],
   "source": [
    "sns.regplot(data = movie_df, x = 'runtime', y = 'budget')"
   ]
  },
  {
   "cell_type": "code",
   "execution_count": 73,
   "id": "2f8ab3b4",
   "metadata": {},
   "outputs": [
    {
     "data": {
      "image/png": "[encoded data removed]",
      "text/plain": [
       "<Figure size 720x360 with 1 Axes>"
      ]
     },
     "metadata": {},
     "output_type": "display_data"
    }
   ],
   "source": [
    "def log_trans(x, inverse = False):\n",
    "    if not inverse:\n",
    "        return np.log10(x)\n",
    "    else:\n",
    "        return np.power(10, x)\n",
    "    \n",
    "sns.regplot(movie_df['runtime'], movie_df['budget'].apply(log_trans), color = '#FF7E00');"
   ]
  },
  {
   "cell_type": "markdown",
   "id": "04d9cb35",
   "metadata": {},
   "source": [
    "#### Observation\n",
    "\n",
    "The plot displays that there is positive relationship between the runtime of the movie and the budget spend on movie. "
   ]
  },
  {
   "cell_type": "markdown",
   "id": "8155882a",
   "metadata": {},
   "source": [
    "#### Question 4: Do high profit movies have high popularity? "
   ]
  },
  {
   "cell_type": "code",
   "execution_count": 123,
   "id": "47b0b01f",
   "metadata": {},
   "outputs": [
    {
     "data": {
      "text/plain": [
       "<AxesSubplot:xlabel='popularity', ylabel='profit'>"
      ]
     },
     "execution_count": 123,
     "metadata": {},
     "output_type": "execute_result"
    },
    {
     "data": {
      "image/png": "[encoded data removed]",
      "text/plain": [
       "<Figure size 720x360 with 1 Axes>"
      ]
     },
     "metadata": {},
     "output_type": "display_data"
    }
   ],
   "source": [
    "# adding a new variable, named 'Profit'\n",
    "movie_df['profit'] = movie_df['revenue'] - movie_df['budget']\n",
    "\n",
    "sns.regplot(data = movie_df, x = 'popularity', y = 'profit', color = '#FF9966')"
   ]
  },
  {
   "cell_type": "markdown",
   "id": "c0a24ec5",
   "metadata": {},
   "source": [
    "#### Observation \n",
    "\n",
    "The plot shows that there is positive correlation between the popularity and profit of the movie. "
   ]
  },
  {
   "cell_type": "markdown",
   "id": "1e07df65",
   "metadata": {},
   "source": [
    "We can observe overall results of the questions 8-10 by running the multivariate analysis. "
   ]
  },
  {
   "cell_type": "code",
   "execution_count": 86,
   "id": "a1fafe0f",
   "metadata": {},
   "outputs": [
    {
     "data": {
      "text/plain": [
       "<seaborn.axisgrid.PairGrid at 0x7f8721ae6cd0>"
      ]
     },
     "execution_count": 86,
     "metadata": {},
     "output_type": "execute_result"
    },
    {
     "data": {
      "image/png": "[encoded data removed]",
      "text/plain": [
       "<Figure size 720x720 with 20 Axes>"
      ]
     },
     "metadata": {},
     "output_type": "display_data"
    }
   ],
   "source": [
    "variables = ['budget', 'profit', 'runtime', 'popularity']\n",
    "g = sns.PairGrid(data = movie_df, vars = variables)\n",
    "g.map_diag(plt.hist)\n",
    "g.map_offdiag(sns.regplot)"
   ]
  },
  {
   "cell_type": "markdown",
   "id": "86512a2e",
   "metadata": {},
   "source": [
    "#### Question 5: Do the movies' popularity increase year by year? "
   ]
  },
  {
   "cell_type": "code",
   "execution_count": 90,
   "id": "47e9a2b7",
   "metadata": {},
   "outputs": [
    {
     "data": {
      "image/png": "[encoded data removed]",
      "text/plain": [
       "<Figure size 720x360 with 1 Axes>"
      ]
     },
     "metadata": {},
     "output_type": "display_data"
    }
   ],
   "source": [
    "movie_df.groupby('release_year')['popularity'].mean().plot()\n",
    "\n",
    "# setup the title and labels of the figure.\n",
    "plt.title(\"Year vs Popularity\",fontsize = 16)\n",
    "plt.xlabel('Release Year',fontsize = 14)\n",
    "plt.ylabel('Popularity',fontsize = 14)\n",
    "\n",
    "# setup the figure size.\n",
    "sns.set(rc={'figure.figsize':(10,5)})\n",
    "sns.set_style(\"whitegrid\")"
   ]
  },
  {
   "cell_type": "markdown",
   "id": "ef6b3a98",
   "metadata": {},
   "source": [
    "#### Observation\n",
    "\n",
    "The plot shows that the after 2010 the popularity of movies go up, while in previous years it was fluctating. "
   ]
  },
  {
   "cell_type": "markdown",
   "id": "25f67ad8",
   "metadata": {},
   "source": [
    "#### Question 6: How do the length of movies change overtime? "
   ]
  },
  {
   "cell_type": "code",
   "execution_count": 124,
   "id": "5979014a",
   "metadata": {},
   "outputs": [
    {
     "data": {
      "image/png": "[encoded data removed]",
      "text/plain": [
       "<Figure size 720x360 with 1 Axes>"
      ]
     },
     "metadata": {},
     "output_type": "display_data"
    }
   ],
   "source": [
    "movie_df.groupby('release_year').mean()['runtime'].plot(xticks = np.arange(1960,2016,5))\n",
    "\n",
    "# setup the title and labels of the figure.\n",
    "plt.title(\"Year vs Length of Movie\",fontsize = 16)\n",
    "plt.xlabel('Release Year',fontsize = 14)\n",
    "plt.ylabel('Length of Movie',fontsize = 14)\n",
    "\n",
    "# setup the figure size.\n",
    "sns.set(rc={'figure.figsize':(10,5)})\n",
    "sns.set_style(\"whitegrid\")"
   ]
  },
  {
   "cell_type": "markdown",
   "id": "5bd30b5d",
   "metadata": {},
   "source": [
    "#### Observation\n",
    "\n",
    "I see that the highest movie run time observed in 1965, and after that it was fluctating. "
   ]
  },
  {
   "cell_type": "markdown",
   "id": "5589fee5",
   "metadata": {},
   "source": [
    "### Notes \n",
    "\n",
    "While investigating the data, I used my knowledge learned in this course, searched libraries documentation, stackoverflow and github in a few cases. "
   ]
  }
 ],
 "metadata": {
  "kernelspec": {
   "display_name": "Python 3",
   "language": "python",
   "name": "python3"
  },
  "language_info": {
   "codemirror_mode": {
    "name": "ipython",
    "version": 3
   },
   "file_extension": ".py",
   "mimetype": "text/x-python",
   "name": "python",
   "nbconvert_exporter": "python",
   "pygments_lexer": "ipython3",
   "version": "3.7.10"
  }
 },
 "nbformat": 4,
 "nbformat_minor": 5
}
